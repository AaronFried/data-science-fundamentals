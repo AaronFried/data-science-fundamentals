{
 "cells": [
  {
   "cell_type": "code",
   "execution_count": 1,
   "metadata": {},
   "outputs": [],
   "source": [
    "import pandas as pd\n",
    "\n",
    "# Make a blank data frame.\n",
    "df = pd.DataFrame()\n",
    "\n",
    "# Populate it with data.\n",
    "df['age'] = [28, 42, 27, 24, 35, 54, 35, 37]"
   ]
  },
  {
   "cell_type": "code",
   "execution_count": 5,
   "metadata": {},
   "outputs": [
    {
     "data": {
      "image/png": "[encoded data removed]",
      "text/plain": [
       "<matplotlib.figure.Figure at 0x10716fb38>"
      ]
     },
     "metadata": {},
     "output_type": "display_data"
    },
    {
     "name": "stdout",
     "output_type": "stream",
     "text": [
      "low_var      97.200330\n",
      "high_var    412.706817\n",
      "dtype: float64\n",
      "low_var      23.629631\n",
      "high_var   -289.361027\n",
      "dtype: float64\n"
     ]
    }
   ],
   "source": [
    "import numpy as np\n",
    "import matplotlib.pyplot as plt\n",
    "\n",
    "# First, create an empty dataframe to store your variables-to-be.\n",
    "pop=pd.DataFrame()\n",
    "\n",
    "# Then create two variables with mean = 60, one with a low standard\n",
    "# deviation (sd=10) and one with a high standard deviation (sd=100).\n",
    "pop['low_var']=np.random.normal(60, 10, 10000)\n",
    "pop['high_var']=np.random.normal(60, 100, 10000)\n",
    "\n",
    "# Finally, create histograms of the two variables.\n",
    "pop.hist(layout=(2, 1), sharex=True)\n",
    "plt.show()\n",
    "\n",
    "# Calculate and print the maximum and minimum values for each variable.\n",
    "print(pop.max())\n",
    "print(pop.min())"
   ]
  },
  {
   "cell_type": "code",
   "execution_count": 7,
   "metadata": {},
   "outputs": [
    {
     "data": {
      "image/png": "[encoded data removed]",
      "text/plain": [
       "<matplotlib.figure.Figure at 0x1070b9ef0>"
      ]
     },
     "metadata": {},
     "output_type": "display_data"
    },
    {
     "data": {
      "text/plain": [
       "low_var      11.408687\n",
       "high_var    104.810752\n",
       "dtype: float64"
      ]
     },
     "execution_count": 7,
     "metadata": {},
     "output_type": "execute_result"
    }
   ],
   "source": [
    "# Take a random sample of 100 observations from each variable\n",
    "# and store it in a new dataframe.\n",
    "sample=pd.DataFrame()\n",
    "sample['low_var'] = np.random.choice(pop['low_var'], 100)\n",
    "sample['high_var']=np.random.choice(pop['high_var'], 100)\n",
    "\n",
    "# Again, visualize the data. Note that here we're using a pandas method to \n",
    "# create the histogram.\n",
    "sample.hist()\n",
    "plt.show()\n",
    "\n",
    "# Check how well the sample replicates the population.\n",
    "sample.mean()\n",
    "sample.std(ddof=1)"
   ]
  },
  {
   "cell_type": "code",
   "execution_count": 18,
   "metadata": {},
   "outputs": [
    {
     "name": "stdout",
     "output_type": "stream",
     "text": [
      "9.0\n",
      "10.0\n",
      "15.4285714286\n",
      "3.92792202425\n"
     ]
    }
   ],
   "source": [
    "import statistics\n",
    "\n",
    "ages = [14, 12, 11, 10, 8, 1, 7]\n",
    "\n",
    "print(np.mean(ages))\n",
    "print(np.median(ages))\n",
    "# print(statistics.mode(ages))\n",
    "print(np.var(ages))\n",
    "print(np.std(ages))"
   ]
  },
  {
   "cell_type": "code",
   "execution_count": null,
   "metadata": {},
   "outputs": [],
   "source": []
  }
 ],
 "metadata": {
  "kernelspec": {
   "display_name": "Python 3",
   "language": "python",
   "name": "python3"
  },
  "language_info": {
   "codemirror_mode": {
    "name": "ipython",
    "version": 3
   },
   "file_extension": ".py",
   "mimetype": "text/x-python",
   "name": "python",
   "nbconvert_exporter": "python",
   "pygments_lexer": "ipython3",
   "version": "3.6.4"
  }
 },
 "nbformat": 4,
 "nbformat_minor": 2
}
