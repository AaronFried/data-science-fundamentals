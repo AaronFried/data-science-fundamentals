{
 "cells": [
  {
   "cell_type": "code",
   "execution_count": 1,
   "metadata": {},
   "outputs": [],
   "source": [
    "from senticnet.senticnet import SenticNet"
   ]
  },
  {
   "cell_type": "code",
   "execution_count": 2,
   "metadata": {},
   "outputs": [],
   "source": [
    "sn = SenticNet()\n",
    "concept_info = sn.concept('love')\n",
    "polarity_value = sn.polarity_value('love')\n",
    "polarity_intense = sn.polarity_intense('love')\n",
    "moodtags = sn.moodtags('love')\n",
    "semantics = sn.semantics('love')\n",
    "sentics = sn.sentics('love')"
   ]
  },
  {
   "cell_type": "code",
   "execution_count": 3,
   "metadata": {},
   "outputs": [
    {
     "name": "stdout",
     "output_type": "stream",
     "text": [
      "{'pleasantness': '1', 'attention': '0', 'sensitivity': '0', 'aptitude': '0.66'}\n"
     ]
    }
   ],
   "source": [
    "print(sentics)"
   ]
  },
  {
   "cell_type": "code",
   "execution_count": 4,
   "metadata": {},
   "outputs": [
    {
     "name": "stdout",
     "output_type": "stream",
     "text": [
      "['tenderness', 'affection', 'kindness', 'care', 'passion']\n"
     ]
    }
   ],
   "source": [
    "print(semantics)"
   ]
  },
  {
   "cell_type": "code",
   "execution_count": 5,
   "metadata": {},
   "outputs": [
    {
     "name": "stdout",
     "output_type": "stream",
     "text": [
      "['#joy', '#admiration']\n"
     ]
    }
   ],
   "source": [
    "print(moodtags)"
   ]
  },
  {
   "cell_type": "code",
   "execution_count": 6,
   "metadata": {},
   "outputs": [
    {
     "data": {
      "text/plain": [
       "'0.83'"
      ]
     },
     "execution_count": 6,
     "metadata": {},
     "output_type": "execute_result"
    }
   ],
   "source": [
    "polarity_intense"
   ]
  },
  {
   "cell_type": "code",
   "execution_count": 7,
   "metadata": {},
   "outputs": [
    {
     "data": {
      "text/plain": [
       "'positive'"
      ]
     },
     "execution_count": 7,
     "metadata": {},
     "output_type": "execute_result"
    }
   ],
   "source": [
    "polarity_value"
   ]
  },
  {
   "cell_type": "code",
   "execution_count": 8,
   "metadata": {},
   "outputs": [
    {
     "data": {
      "text/plain": [
       "{'moodtags': ['#joy', '#admiration'],\n",
       " 'polarity_intense': '0.83',\n",
       " 'polarity_value': 'positive',\n",
       " 'semantics': ['tenderness', 'affection', 'kindness', 'care', 'passion'],\n",
       " 'sentics': {'aptitude': '0.66',\n",
       "  'attention': '0',\n",
       "  'pleasantness': '1',\n",
       "  'sensitivity': '0'}}"
      ]
     },
     "execution_count": 8,
     "metadata": {},
     "output_type": "execute_result"
    }
   ],
   "source": [
    "concept_info"
   ]
  },
  {
   "cell_type": "code",
   "execution_count": 13,
   "metadata": {},
   "outputs": [
    {
     "data": {
      "text/plain": [
       "{'moodtags': ['#anger', '#disgust'],\n",
       " 'polarity_intense': '-0.97',\n",
       " 'polarity_value': 'negative',\n",
       " 'semantics': ['idiotic', 'stupid', 'dumb', 'brainless', 'dummy'],\n",
       " 'sentics': {'aptitude': '-0.98',\n",
       "  'attention': '0',\n",
       "  'pleasantness': '0',\n",
       "  'sensitivity': '0.964'}}"
      ]
     },
     "execution_count": 13,
     "metadata": {},
     "output_type": "execute_result"
    }
   ],
   "source": [
    "sn.concept(\"idiot\")"
   ]
  },
  {
   "cell_type": "code",
   "execution_count": null,
   "metadata": {},
   "outputs": [],
   "source": []
  }
 ],
 "metadata": {
  "kernelspec": {
   "display_name": "Python 3",
   "language": "python",
   "name": "python3"
  },
  "language_info": {
   "codemirror_mode": {
    "name": "ipython",
    "version": 3
   },
   "file_extension": ".py",
   "mimetype": "text/x-python",
   "name": "python",
   "nbconvert_exporter": "python",
   "pygments_lexer": "ipython3",
   "version": "3.6.4"
  }
 },
 "nbformat": 4,
 "nbformat_minor": 2
}
