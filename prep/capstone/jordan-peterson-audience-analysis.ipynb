{
 "cells": [
  {
   "cell_type": "markdown",
   "metadata": {},
   "source": [
    "# Hunting Jordan Peterson's angry mob\n",
    "\n",
    "As online communities have gained traction in the 'real world', journalists have worked to understand and explain them. So far, their attempts have come up short. Nowhere has this been more evident than in the critical news coverage of Jordan Peterson's rise to international fame — he's been called the world's most influential public intellectual. \n",
    "\n",
    "But opinion about him are polarized. Peterson's detractors see him as a dangerously regressive influence, perpetuating bigotry and provoking violence. In stark contrast, his supporters are a devoted online community. With over 1 million subscribers on his YouTube channel — which primarily features his university lectures — Peterson's viewers eagerly support his work. As of this writing, he has nearly 9,500 patrons on Patreon (each of these people is happily donating at least $1 per month).\n",
    "\n",
    "What explains the divide?\n",
    "\n",
    "In 2016, Peterson stepped into the culture war, sparking a global political controversy that launched him into mainstream media coverage. After Canada's parliament passed Bill C-16, which added transgender people as a protected class under Canada's human rights code, [Peterson argued](https://www.youtube.com/playlist?list=PL22J3VaeABQD8oW-mqWpKumeqglQCe6VZ) that the new law compelled people to use certain pronouns — a violation of free speech. Between this and his sharp criticisms of identity politics, Peterson raised the ire of the political left.\n",
    "\n",
    "Naturally, criticism followed the spotlight.  [Many](https://www.theguardian.com/media/2018/mar/19/cathy-newman-the-internet-is-being-written-by-men-with-an-agenda) [mainstream](https://www.independent.co.uk/voices/cathy-newman-abuse-channel-4-jordan-peterson-metoo-backlash-latest-a8170031.html) [articles](https://www.macleans.ca/opinion/is-jordan-peterson-the-stupid-mans-smart-person/) [have](https://www.nybooks.com/daily/2018/03/19/jordan-peterson-and-fascist-mysticism/) [categorized](https://jacobinmag.com/2018/02/jordan-peterson-enlightenment-nietzsche-alt-right) Dr. Peterson as a backwards misogynist, backed by an online horde of _angry white men_ who spit vitriol at anyone who dares to debate him.\n",
    "\n",
    "As a member of Peterson's audience, this contradicts my observations. While Tweets and YouTube comments are rarely high-brow, his audience seems normal (or better) to me. I also attended one of his lectures in New York and saw a curious and eager group of mostly young professionals — not screaming skinheads nor embittered incels. My impressions, however, could have been clouded by my biases.\n",
    "\n",
    "Perhaps the journalists above know something I don't. Perhaps they're more biased than we realize. If we simply rely on our gut reactions to a handful of comments, however, we'll never be able to grasp what online communities of millions think. We need high resolution tools to understand this question, not emotional heuristics. We're going to use solid data to analyze the claims of these journalists.\n",
    "\n",
    "To carry out our analysis, we'll scrape the comments from a few dozen YouTube videos — some involving Jordan Peterson, others without the controversial professor; some on intellectual topics, others from pop culture. Then, we'll perform semantic analysis on the comments. We can test polarity, which shows whether the tone is positive or negative, and mood, which (as you may expect) tells us which moods are expressed by a word.\n",
    "\n",
    "By the end, we will be able to prove (or falsify) the claim that Jordan Peterson's audience is abnormally negative and angry towards those who disagree with him. Let's start by pulling in our datasets.\n",
    "\n",
    "### Data Preparation"
   ]
  },
  {
   "cell_type": "code",
   "execution_count": 1,
   "metadata": {},
   "outputs": [
    {
     "data": {
      "text/html": [
       "<div>\n",
       "<style scoped>\n",
       "    .dataframe tbody tr th:only-of-type {\n",
       "        vertical-align: middle;\n",
       "    }\n",
       "\n",
       "    .dataframe tbody tr th {\n",
       "        vertical-align: top;\n",
       "    }\n",
       "\n",
       "    .dataframe thead th {\n",
       "        text-align: right;\n",
       "    }\n",
       "</style>\n",
       "<table border=\"1\" class=\"dataframe\">\n",
       "  <thead>\n",
       "    <tr style=\"text-align: right;\">\n",
       "      <th></th>\n",
       "      <th>Debate</th>\n",
       "      <th>Genre</th>\n",
       "      <th>JBP</th>\n",
       "      <th>Path</th>\n",
       "      <th>Video Title</th>\n",
       "    </tr>\n",
       "  </thead>\n",
       "  <tbody>\n",
       "    <tr>\n",
       "      <th>0</th>\n",
       "      <td>True</td>\n",
       "      <td>Intellectual</td>\n",
       "      <td>True</td>\n",
       "      <td>./comment-assets/newman-new.csv</td>\n",
       "      <td>Peterson vs Newman</td>\n",
       "    </tr>\n",
       "    <tr>\n",
       "      <th>1</th>\n",
       "      <td>False</td>\n",
       "      <td>Intellectual</td>\n",
       "      <td>True</td>\n",
       "      <td>./comment-assets/biblical-lectures.csv</td>\n",
       "      <td>Biblical Lectures (Peterson)</td>\n",
       "    </tr>\n",
       "    <tr>\n",
       "      <th>2</th>\n",
       "      <td>True</td>\n",
       "      <td>Intellectual</td>\n",
       "      <td>True</td>\n",
       "      <td>./comment-assets/munk-debate.csv</td>\n",
       "      <td>Munk Debate (Peterson, Fry, Dyson, Goldberg)</td>\n",
       "    </tr>\n",
       "    <tr>\n",
       "      <th>3</th>\n",
       "      <td>False</td>\n",
       "      <td>Intellectual</td>\n",
       "      <td>True</td>\n",
       "      <td>./comment-assets/personality-lectures.csv</td>\n",
       "      <td>Personality Lectures (Peterson)</td>\n",
       "    </tr>\n",
       "    <tr>\n",
       "      <th>4</th>\n",
       "      <td>False</td>\n",
       "      <td>Intellectual</td>\n",
       "      <td>True</td>\n",
       "      <td>./comment-assets/peterson-rogan.csv</td>\n",
       "      <td>Peterson on Rogan</td>\n",
       "    </tr>\n",
       "  </tbody>\n",
       "</table>\n",
       "</div>"
      ],
      "text/plain": [
       "   Debate         Genre   JBP                                       Path  \\\n",
       "0    True  Intellectual  True            ./comment-assets/newman-new.csv   \n",
       "1   False  Intellectual  True     ./comment-assets/biblical-lectures.csv   \n",
       "2    True  Intellectual  True           ./comment-assets/munk-debate.csv   \n",
       "3   False  Intellectual  True  ./comment-assets/personality-lectures.csv   \n",
       "4   False  Intellectual  True        ./comment-assets/peterson-rogan.csv   \n",
       "\n",
       "                                    Video Title  \n",
       "0                            Peterson vs Newman  \n",
       "1                  Biblical Lectures (Peterson)  \n",
       "2  Munk Debate (Peterson, Fry, Dyson, Goldberg)  \n",
       "3               Personality Lectures (Peterson)  \n",
       "4                             Peterson on Rogan  "
      ]
     },
     "execution_count": 1,
     "metadata": {},
     "output_type": "execute_result"
    }
   ],
   "source": [
    "import pandas as pd\n",
    "import numpy as np\n",
    "\n",
    "# Grab metadata from a JSON file and add it to a dataframe\n",
    "metadataframe = pd.read_json('./comment-assets/comment-directory.json')\n",
    "metadataframe.head() # display first few fows"
   ]
  },
  {
   "cell_type": "markdown",
   "metadata": {},
   "source": [
    "We're looking at scraped comments from various YouTube videos:\n",
    "- Jordan Peterson's [Cathy Newman interview](https://www.youtube.com/watch?v=aMcjxSThD54)\n",
    "- All of Peterson's lectures on the [Psychological Significance of the Biblical Stories](https://www.youtube.com/watch?v=f-wWBGo6a2w&list=PL22J3VaeABQD_IZs7y60I3lUrrFTzkpat), combined into one file\n",
    "- All of Peterson's Personality lectures from [2017](https://www.youtube.com/watch?v=kYYJlNbV1OM&list=PL22J3VaeABQApSdW8X71Ihe34eKN6XhCi) and [2016](https://www.youtube.com/watch?v=UGLsnu5RLe8&list=PL22J3VaeABQAOhH1CLMNnMl2R-O1abW1T), combined into one file\n",
    "- The [Munk Debate](https://www.youtube.com/watch?v=GxYimeaoea0) featuring Jordan Peterson, Stephen Fry versus Michael Eric Dyson and Michelle Goldberg\n",
    "- Two presidential debates: [Clinton versus Trump](https://www.youtube.com/watch?v=855Am6ovK7s) and [Obama versus Romney](https://www.youtube.com/watch?v=QEpCrcMF5Ps)\n",
    "- The first PewDiePie [video](https://www.youtube.com/watch?v=VOochquOIoo) I found on his channel\n",
    "- Music videos by [The Chainsmokers](https://www.youtube.com/watch?v=nuckTcoZG4Q), [Drake](https://www.youtube.com/watch?v=U9BwWKXjVaI), and [Metallica](https://www.youtube.com/watch?v=tAGnKpE4NCI)\n",
    "- A [makeup](https://www.youtube.com/watch?v=GJ9_7L873m8) video\n",
    "- Four TED Talks on various topics [1](https://www.youtube.com/watch?v=8nt3edWLgIg) [2](https://www.youtube.com/watch?v=_QdPW8JrYzQ) [3](https://www.youtube.com/watch?v=KM4Xe6Dlp0Y&t=5s) [4](https://www.youtube.com/watch?v=Ks-_Mh1QhMc&t=4s)\n",
    "- Jordan Peterson's appearance on [Real Time](https://www.youtube.com/watch?v=8wLCmDtCDAM) with Bill Maher, which got a little testy\n",
    "- Jordan Peterson's [second appearance](https://www.youtube.com/watch?v=USg3NR76XpQ) on the Joe Rogan podcast\n",
    "- [Christopher Hitchens debating Tariq Ramadan](https://www.youtube.com/watch?v=_CGFMwtJTyE) about whether Islam is a religion of peace\n",
    "\n",
    "We're also tracking their genres, whether a video is a debate, and whether it contains Jordan Peterson. Now let's load in all of our comments."
   ]
  },
  {
   "cell_type": "code",
   "execution_count": 2,
   "metadata": {},
   "outputs": [
    {
     "name": "stderr",
     "output_type": "stream",
     "text": [
      "b'Skipping line 675: expected 4 fields, saw 7\\nSkipping line 1349: expected 4 fields, saw 7\\nSkipping line 2003: expected 4 fields, saw 7\\nSkipping line 3086: expected 4 fields, saw 7\\nSkipping line 3512: expected 4 fields, saw 7\\nSkipping line 4132: expected 4 fields, saw 7\\nSkipping line 4676: expected 4 fields, saw 7\\nSkipping line 5468: expected 4 fields, saw 7\\nSkipping line 6616: expected 4 fields, saw 7\\nSkipping line 7912: expected 4 fields, saw 7\\nSkipping line 8580: expected 4 fields, saw 7\\nSkipping line 9316: expected 4 fields, saw 7\\nSkipping line 12769: expected 4 fields, saw 7\\nSkipping line 13225: expected 4 fields, saw 7\\nSkipping line 14557: expected 4 fields, saw 7\\nSkipping line 15291: expected 4 fields, saw 7\\n'\n",
      "b'Skipping line 146: expected 4 fields, saw 7\\nSkipping line 674: expected 4 fields, saw 7\\nSkipping line 704: expected 4 fields, saw 7\\nSkipping line 1138: expected 4 fields, saw 7\\nSkipping line 1214: expected 4 fields, saw 7\\nSkipping line 1420: expected 4 fields, saw 7\\nSkipping line 1583: expected 4 fields, saw 7\\nSkipping line 1985: expected 4 fields, saw 7\\nSkipping line 2023: expected 4 fields, saw 7\\nSkipping line 2337: expected 4 fields, saw 7\\nSkipping line 2651: expected 4 fields, saw 7\\nSkipping line 2698: expected 4 fields, saw 7\\nSkipping line 3092: expected 4 fields, saw 7\\nSkipping line 3134: expected 4 fields, saw 7\\nSkipping line 3516: expected 4 fields, saw 7\\nSkipping line 3957: expected 4 fields, saw 7\\nSkipping line 4045: expected 4 fields, saw 7\\nSkipping line 4471: expected 4 fields, saw 7\\nSkipping line 4493: expected 4 fields, saw 7\\nSkipping line 4603: expected 4 fields, saw 7\\nSkipping line 4670: expected 4 fields, saw 7\\nSkipping line 5250: expected 4 fields, saw 7\\nSkipping line 5399: expected 4 fields, saw 7\\nSkipping line 5464: expected 4 fields, saw 7\\nSkipping line 5608: expected 4 fields, saw 7\\nSkipping line 5643: expected 4 fields, saw 7\\nSkipping line 5838: expected 4 fields, saw 7\\nSkipping line 6366: expected 4 fields, saw 7\\nSkipping line 6774: expected 4 fields, saw 7\\nSkipping line 6866: expected 4 fields, saw 7\\nSkipping line 6962: expected 4 fields, saw 7\\nSkipping line 7848: expected 4 fields, saw 7\\n'\n"
     ]
    },
    {
     "name": "stdout",
     "output_type": "stream",
     "text": [
      "294036 comments added.\n"
     ]
    }
   ],
   "source": [
    "comments = pd.DataFrame()\n",
    "\n",
    "# Build a comments dataframe by pulling data from files listed in the metadata entered above\n",
    "for idx, video in metadataframe.iterrows():\n",
    "    df = pd.read_csv(video['Path'], error_bad_lines=False)\n",
    "    df['Video Title'] = video['Video Title']\n",
    "    df['JBP'] = video['JBP']\n",
    "    df['Debate'] = video['Debate']\n",
    "    df['Genre'] = video['Genre']\n",
    "    comments = comments.append(df, ignore_index=True)\n",
    "\n",
    "print(len(comments), 'comments added.')"
   ]
  },
  {
   "cell_type": "markdown",
   "metadata": {},
   "source": [
    "Next, we're going to build functions to perform semantic analysis on these comments. To start, we'll clean the data by removing punctuation, splitting comments into lists of individual words (tokenizing), and dropping stopwords such as \"the\", \"this\", and \"and\"."
   ]
  },
  {
   "cell_type": "code",
   "execution_count": 3,
   "metadata": {},
   "outputs": [],
   "source": [
    "import re, string\n",
    "\n",
    "def comment_cleaner(df):\n",
    "    clean_comments = []    \n",
    "    punct = str.maketrans(string.punctuation,' '*len(string.punctuation))\n",
    "    for idx, comment in df.iterrows():\n",
    "        cleaned = str(comment['commentText']).translate(punct)\n",
    "        clean_comments.append(cleaned.lower().replace('\\n', ' ').replace('\\r', '').split(' '))\n",
    "    return pd.Series(clean_comments)"
   ]
  },
  {
   "cell_type": "code",
   "execution_count": 4,
   "metadata": {},
   "outputs": [],
   "source": [
    "# Use spaCy's natural language processing tools to identify stopwords\n",
    "import spacy\n",
    "nlp = spacy.load('en')\n",
    "\n",
    "def remove_stopwords(column):\n",
    "    for comment in column:\n",
    "        comment[:] = [x for x in comment if not nlp.vocab[str(x)].is_stop]\n",
    "    return column"
   ]
  },
  {
   "cell_type": "markdown",
   "metadata": {},
   "source": [
    "After scrubbing out all of our unnecessary stopwords and punctuation, we can use SenticNet to get the _polarity_ of each comment. Polarity tells us whether the tone of a comment is positive, negative, or neutral. Here's a brief example:"
   ]
  },
  {
   "cell_type": "code",
   "execution_count": 5,
   "metadata": {},
   "outputs": [
    {
     "name": "stdout",
     "output_type": "stream",
     "text": [
      "Good polarity:  0.849\n",
      "Love polarity:  0.83\n",
      "Hate polarity:  -0.83\n",
      "Evil polarity:  -0.76\n",
      "Beef polarity:  0.083\n"
     ]
    }
   ],
   "source": [
    "from senticnet.senticnet import SenticNet\n",
    "sn = SenticNet()\n",
    "\n",
    "print('Good polarity: ', sn.polarity_intense('good'))\n",
    "print('Love polarity: ', sn.polarity_intense('love'))\n",
    "print('Hate polarity: ', sn.polarity_intense('hate'))\n",
    "print('Evil polarity: ', sn.polarity_intense('evil'))\n",
    "print('Beef polarity: ', sn.polarity_intense('beef')) # Should be near, but not equal to, 0"
   ]
  },
  {
   "cell_type": "markdown",
   "metadata": {},
   "source": [
    "The function below takes a comment as a parameter and finds the polarity of each word in the comment. Then, it takes the mean of all nonzero polarities — polarities of 0.0 are typically triggered by typos or proper nouns, which we do not want to skew our average.\n",
    "\n",
    "The complete set of comment polarity scores will allow us to see the full distribution of commenters' tones."
   ]
  },
  {
   "cell_type": "code",
   "execution_count": 6,
   "metadata": {},
   "outputs": [],
   "source": [
    "def get_polarity(comment):\n",
    "    comment_polarity = []\n",
    "    for word in comment:\n",
    "        token_polarity = 0.0\n",
    "        try:\n",
    "            token_polarity = float(sn.polarity_intense(str(word)))\n",
    "        except Exception as e:\n",
    "            pass\n",
    "        comment_polarity.append(token_polarity)\n",
    "    return np.mean([item for item in comment_polarity if (item != 0)])"
   ]
  },
  {
   "cell_type": "markdown",
   "metadata": {},
   "source": [
    "To get more granular than mere positive-versus-negative, we're going to use SenticNet's _moodtags_: 'admiration', 'interest', 'joy', 'surprise', 'anger', 'sadness', 'fear', and 'disgust'. Each word analyzed will generate two moodtags, and each comment will have its own list of all of the moodtags generated."
   ]
  },
  {
   "cell_type": "code",
   "execution_count": 7,
   "metadata": {
    "scrolled": true
   },
   "outputs": [
    {
     "name": "stdout",
     "output_type": "stream",
     "text": [
      "Good moodtags:  ['#joy', '#interest']\n",
      "Love moodtags:  ['#joy', '#admiration']\n",
      "Hate moodtags:  ['#anger', '#disgust']\n",
      "Evil moodtags:  ['#fear', '#disgust']\n",
      "Beef moodtags:  ['#interest', '#interest']\n"
     ]
    }
   ],
   "source": [
    "print('Good moodtags: ', sn.moodtags('good'))\n",
    "print('Love moodtags: ', sn.moodtags('love'))\n",
    "print('Hate moodtags: ', sn.moodtags('hate'))\n",
    "print('Evil moodtags: ', sn.moodtags('evil'))\n",
    "print('Beef moodtags: ', sn.moodtags('beef'))"
   ]
  },
  {
   "cell_type": "markdown",
   "metadata": {},
   "source": [
    "Later on, we will use this data to visualize the prevalence of certain moods (such as anger) among Jordan Peterson's commenters compared to commenters among other YouTube populations.\n",
    "\n",
    "The following function assigns a list of moodtags to each comment in the dataframe."
   ]
  },
  {
   "cell_type": "code",
   "execution_count": null,
   "metadata": {},
   "outputs": [],
   "source": [
    "def get_moodtags(comment):\n",
    "    comment_moods = []\n",
    "    for word in comment:\n",
    "        try:\n",
    "            comment_moods.append(sn.moodtags(str(word)))\n",
    "        except Exception as e:\n",
    "            pass\n",
    "    return [item.strip('#') for sublist in comment_moods for item in sublist]"
   ]
  },
  {
   "cell_type": "markdown",
   "metadata": {},
   "source": [
    "Let's run all of the comments through these functions."
   ]
  },
  {
   "cell_type": "code",
   "execution_count": null,
   "metadata": {},
   "outputs": [],
   "source": [
    "comments['Cleaned'] = remove_stopwords(comment_cleaner(comments))\n",
    "comments['Polarity'] = comments['Cleaned'].apply(get_polarity)\n",
    "comments['Moodtags'] = comments['Cleaned'].apply(get_moodtags)\n",
    "print(len(comments), 'comments processed.')"
   ]
  },
  {
   "cell_type": "markdown",
   "metadata": {},
   "source": [
    "Everything is ready to go. Let's get started with our analysis.\n",
    "\n",
    "### Statistical Tests\n",
    "\n",
    "Each of these comment groupings has a distribution of polarities. We're going to run the [Kolmogorov-Smirnov test](https://en.wikipedia.org/wiki/Kolmogorov–Smirnov_test) to check if these distributions are significantly different.  Essentially, KS tests the null hypothesis that two independent samples are drawn from the same distribution. A high KS statistic or low p-value would allow us to reject the null hypothesis."
   ]
  },
  {
   "cell_type": "code",
   "execution_count": null,
   "metadata": {},
   "outputs": [],
   "source": [
    "import scipy\n",
    "from scipy import stats\n",
    "\n",
    "# Comparing Peterson's Newman interview to itself\n",
    "newman_interview = comments.loc[(comments['Video Title']=='Peterson vs Newman')]\n",
    "print('Baseline:', scipy.stats.ks_2samp(comments.loc[comments['Video Title']=='Peterson vs Newman']['Polarity'], newman_interview['Polarity']))"
   ]
  },
  {
   "cell_type": "markdown",
   "metadata": {},
   "source": [
    "The null hypothesis will show a _p-value_ of 1.0 and a statistic of 0.0. What do some real examples show?"
   ]
  },
  {
   "cell_type": "code",
   "execution_count": null,
   "metadata": {},
   "outputs": [],
   "source": [
    "peterson_debates = comments.loc[(comments['JBP']==True) & (comments['Debate']==True)]\n",
    "intellectual_debates_sans_peterson = comments.loc[(comments['Debate']==True) & (comments['JBP']==False) & (comments['Genre']=='Intellectual')]\n",
    "\n",
    "# Comparing Peterson's Newman interview with his other debates\n",
    "print(scipy.stats.ks_2samp(newman_interview['Polarity'], peterson_debates_sans_newman['Polarity']))\n",
    "\n",
    "# Comparing all Jordan Peterson videos to all others\n",
    "print(scipy.stats.ks_2samp(comments.loc[(comments['JBP']==True)]['Polarity'], comments.loc[(comments['JBP']==False)]['Polarity']))\n",
    "\n",
    "# Comparing all Jordan Peterson debates with other debates\n",
    "print(scipy.stats.ks_2samp(intellectual_debates_sans_peterson['Polarity'], peterson_debates['Polarity']))"
   ]
  },
  {
   "cell_type": "markdown",
   "metadata": {},
   "source": [
    "Across categories, we see significant differences in the polarity distributions — our first two p-values are well below 0.01 (note the scientific notation). We know these samples aren't drawn from the same distribution.\n",
    "\n",
    "Next, we'll generate similarity scores for every comment set. We're looking to see which sets of comments are most similar (or different) and hoping to find a pattern. Step 1: build a [probability density function](https://en.wikipedia.org/wiki/Probability_density_function) for each set of comments, so our comparisons aren't skewed by the amount of comments per video."
   ]
  },
  {
   "cell_type": "code",
   "execution_count": null,
   "metadata": {},
   "outputs": [],
   "source": [
    "polarity_dataframe = pd.DataFrame()\n",
    "bins = 100\n",
    "\n",
    "# Split the distribution for each set of comments' polarities into 100 bins\n",
    "for title in comments['Video Title'].unique():\n",
    "    pol = comments.loc[comments['Video Title']==title]['Polarity']\n",
    "    hist = np.histogram(pol.dropna(), bins=bins)\n",
    "    polarity_dataframe[title] = hist[0]\n",
    "\n",
    "# Divide each row by the sum of the entire column, then save the dataframe\n",
    "beta = polarity_dataframe.sum(axis=0)\n",
    "polarity_dataframe = polarity_dataframe.apply(lambda row: row / beta, axis=1)"
   ]
  },
  {
   "cell_type": "markdown",
   "metadata": {},
   "source": [
    "Now let's build a new dataframe that will allow us to do a pairwise comparison of each video to every other video."
   ]
  },
  {
   "cell_type": "code",
   "execution_count": null,
   "metadata": {},
   "outputs": [],
   "source": [
    "column_headers = list(polarity_dataframe)\n",
    "pairwise_list = []\n",
    "\n",
    "# Nested loops round-robin through our columns, creating a pairwise comparison\n",
    "for i in range(len(column_headers)):\n",
    "    for j in range(i+1, len(column_headers)):\n",
    "        pairwise_list.append({'Video 1': column_headers[i], 'Video 2': column_headers[j]})\n",
    "\n",
    "# Create new dataframe from list of dicts\n",
    "pairwise_comparison = pd.DataFrame(pairwise_list)"
   ]
  },
  {
   "cell_type": "markdown",
   "metadata": {},
   "source": [
    "Now that we have our pairwise comparisons set up, let's run some similarity scores: Euclidean Distance, Manhattan Distance, and Cosine Similarity. We'll add each of those to the dataframe, and then sort them in that order."
   ]
  },
  {
   "cell_type": "code",
   "execution_count": null,
   "metadata": {},
   "outputs": [],
   "source": [
    "from tools.similarityscores import Similarity\n",
    "similarity = Similarity()\n",
    "\n",
    "euclidean_distance = []\n",
    "manhattan_distance = []\n",
    "cosine_similarity = []\n",
    "\n",
    "# Build lists of similarity scores for each pairwise comparison\n",
    "for idx, row in pairwise_comparison.iterrows():\n",
    "    vid1 = polarity_dataframe[row['Video 1']]\n",
    "    vid2 = polarity_dataframe[row['Video 2']]\n",
    "    euclidean_distance.append(similarity.euclidean_distance(vid1, vid2))\n",
    "    manhattan_distance.append(similarity.manhattan_distance(vid1, vid2))\n",
    "    cosine_similarity.append(similarity.cosine_similarity(vid1, vid2))\n",
    "\n",
    "# Add columns from each list of similarity scores\n",
    "pairwise_comparison['Euclidean Distance'] = euclidean_distance\n",
    "pairwise_comparison['Manhattan Distance'] = manhattan_distance\n",
    "pairwise_comparison['Cosine Similarity'] = cosine_similarity\n",
    "\n",
    "pairwise_comparison.sort_values(by=['Euclidean Distance', 'Manhattan Distance',\n",
    "                                    'Cosine Similarity'], ascending=[True, True, False])"
   ]
  },
  {
   "cell_type": "markdown",
   "metadata": {},
   "source": [
    "All of this makes intuitive sense. We're seeing pairings fall neatly into the genres of _intellectual_ versus _popular_, as well as intellectual's subgenres of _debate_ or _lecture/talk_. \n",
    "\n",
    "The most similar sets of comments are on Jordan Peterson's two most famous and acrimonious debates. The top group includes various pairings of intellectual lectures and debates. On the most-different end, we see presidential debates athwart music videos and PewDiePie looking quite different from Jordan Peterson's appearance on Real Time with Bill Maher.\n",
    "\n",
    "Notably, we're not seeing a major difference (or lack of similarity) between Jordan Peterson's audience and other intellectual audiences — in fact, many of the most-similar comment sets are between Peterson's audience and TED Talks, major debates, and presidential debates.\n",
    "\n",
    "Let's drill down on the similarity scores for the Cathy Newman interview to illustrate the point."
   ]
  },
  {
   "cell_type": "code",
   "execution_count": null,
   "metadata": {},
   "outputs": [],
   "source": [
    "pairwise_comparison.loc[pairwise_comparison['Video 1']=='Peterson vs Newman'].sort_values(by=['Euclidean Distance', 'Manhattan Distance',\n",
    "                                    'Cosine Similarity'], ascending=[True, True, False])"
   ]
  },
  {
   "cell_type": "markdown",
   "metadata": {},
   "source": [
    "As you can see from these two tables, early indications show that comment tone depends more on video type than any particular YouTuber's audience. Let's visualize some of these comparisons to get a better sense of how different audiences and genres relate.\n",
    "\n",
    "### Comparing by Genre"
   ]
  },
  {
   "cell_type": "code",
   "execution_count": null,
   "metadata": {},
   "outputs": [],
   "source": [
    "import matplotlib.pyplot as plt\n",
    "\n",
    "plt.hist(comments.loc[(comments['Debate']==True) & (comments['JBP']==False)]['Polarity'].dropna(), normed=True, color='blue', bins=100, alpha=.5, range=(-1, 1), label='Others')\n",
    "plt.hist(comments.loc[(comments['Debate']==True) & (comments['JBP']==True)]['Polarity'].dropna(), normed=True, color='red', bins=100, alpha=.5, range=(-1, 1), label='Jordan Peterson')\n",
    "plt.ylabel('Comments')\n",
    "plt.xlabel('Polarities')\n",
    "plt.title('Debates with Peterson vs Debates without')\n",
    "plt.legend()\n",
    "plt.show()"
   ]
  },
  {
   "cell_type": "markdown",
   "metadata": {},
   "source": [
    "Both have similar shapes. Now let's look at all intellectual debates versus all intellectual lectures."
   ]
  },
  {
   "cell_type": "code",
   "execution_count": null,
   "metadata": {
    "scrolled": false
   },
   "outputs": [],
   "source": [
    "plt.hist(comments.loc[(comments['Genre']=='Intellectual') & (comments['Debate']==True)]['Polarity'].dropna(), normed=True, color='blue', bins=100, alpha=.5, range=(-1, 1), label='Debates')\n",
    "plt.hist(comments.loc[(comments['Genre']=='Intellectual') & (comments['Debate']==False)]['Polarity'].dropna(), normed=True, color='red', bins=100, alpha=.5, range=(-1, 1), label='Lectures/Talks')\n",
    "plt.ylabel('Comments')\n",
    "plt.xlabel('Polarities')\n",
    "plt.title('Comparing Debates to Lectures/Talks')\n",
    "plt.legend()\n",
    "plt.show()"
   ]
  },
  {
   "cell_type": "markdown",
   "metadata": {},
   "source": [
    "Again, the curves share a similar shape. Now, let's take a look at Peterson's lectures versus non-Peterson lectures (our TED talks):"
   ]
  },
  {
   "cell_type": "code",
   "execution_count": null,
   "metadata": {},
   "outputs": [],
   "source": [
    "plt.hist(comments.loc[(comments['Genre']=='Intellectual') & (comments['Debate']==False) & (comments['JBP']==True)]['Polarity'].dropna(), normed=True, color='blue', bins=100, alpha=.5, range=(-1, 1), label='Peterson Lectures')\n",
    "plt.hist(comments.loc[(comments['Genre']=='Intellectual') & (comments['Debate']==False) & (comments['JBP']==False)]['Polarity'].dropna(), normed=True, color='red', bins=100, alpha=.5, range=(-1, 1), label='TED Talks')\n",
    "plt.ylabel('Comments')\n",
    "plt.xlabel('Polarities')\n",
    "plt.title('Lectures with Peterson versus Lectures without')\n",
    "plt.legend()\n",
    "plt.show()"
   ]
  },
  {
   "cell_type": "markdown",
   "metadata": {},
   "source": [
    "From these, we can see that Peterson's audience is highly similar in tone to other audiences in the same genre. To firm up our genre hypothesis, let's compare overall intellectual videos to popular videos to visualize why those were splitting so dramatically in the similarity scoring."
   ]
  },
  {
   "cell_type": "code",
   "execution_count": null,
   "metadata": {},
   "outputs": [],
   "source": [
    "plt.hist(comments.loc[(comments['Genre']=='Intellectual')]['Polarity'].dropna(), normed=True, color='blue', bins=100, alpha=.5, range=(-1, 1), label='Intellectual Videos')\n",
    "plt.hist(comments.loc[(comments['Genre']=='Popular')]['Polarity'].dropna(), normed=True, color='red', bins=100, alpha=.5, range=(-1, 1), label='Popular Videos')\n",
    "plt.ylabel('Comments')\n",
    "plt.xlabel('Polarities')\n",
    "plt.title('Comparing Intellectual and Popular Genres')\n",
    "plt.legend()\n",
    "plt.show()"
   ]
  },
  {
   "cell_type": "markdown",
   "metadata": {},
   "source": [
    "Clearly, differences between genre form the biggest split between audiences' tones in the comments.\n",
    "\n",
    "### Audience Mood\n",
    "\n",
    "Now that we've addressed tone and shown that Jordan Peterson's audience isn't abnormally negative (or abnormally _anything_, for that matter), let's move into SenticNet's moodtags to see if we can find some abnormalities there. Specifically, we're investigating the claim that Peterson's audience has an overrepresentation of negative moods — particularly anger — in Peterson's debates with others.\n",
    "\n",
    "Pie charts are the simplest way to visualize a count of all of our moodtags. Let's get started."
   ]
  },
  {
   "cell_type": "code",
   "execution_count": null,
   "metadata": {},
   "outputs": [],
   "source": [
    "from collections import Counter\n",
    "\n",
    "# Setting up our pie charts for visual consistency\n",
    "explode = (0.0, 0.0, 0.0, 0.0, 0.1, 0.1, 0.1, 0.1)\n",
    "labels = ['admiration', 'interest', 'joy', 'surprise', 'anger', 'sadness', 'fear', 'disgust']\n",
    "\n",
    "# Creating a Counter object to count (duh) every moodtag in a given set of comments\n",
    "def count_moodtags(df):\n",
    "    word_string = ''\n",
    "    word_list = [item for sublist in df['Moodtags'] for item in sublist]\n",
    "    word_string += ', '.join(word_list)\n",
    "    return Counter(word_list)"
   ]
  },
  {
   "cell_type": "markdown",
   "metadata": {},
   "source": [
    "First, let's take a broad look at the combined comments on all of Jordan Peterson's videos:"
   ]
  },
  {
   "cell_type": "code",
   "execution_count": null,
   "metadata": {},
   "outputs": [],
   "source": [
    "plt.pie(count_moodtags(comments.loc[comments['JBP']==True]).values(), labels=labels, autopct='%1.1f%%', explode=explode)\n",
    "plt.title('Jordan Peterson Overall Audience')\n",
    "plt.show()"
   ]
  },
  {
   "cell_type": "markdown",
   "metadata": {},
   "source": [
    "Right out, this is not an angry group of people. Let's drill down and see if we can find where that 6.5% anger is coming from. Perhaps it's overrepresented in Peterson's interview with Cathy Newman on Channel 4; after all, this is the video where the \"Peterson's fans are an angry mob\" narrative emerged. Channel 4 claimed that the deluge of negative and threatening comments was so severe, they needed to bring in security experts."
   ]
  },
  {
   "cell_type": "code",
   "execution_count": null,
   "metadata": {},
   "outputs": [],
   "source": [
    "plt.pie(count_moodtags(comments.loc[comments['Video Title']=='Peterson vs Newman']).values(), labels=labels, autopct='%1.1f%%', explode=explode)\n",
    "plt.title('Jordan Peterson Interviewed by Cathy Newman')\n",
    "plt.show()"
   ]
  },
  {
   "cell_type": "markdown",
   "metadata": {},
   "source": [
    "Surprisingly, everything is right near the baseline. According to the data, this is not an angry mob. Let's move our comparison to overall debates and see if the response to all of his debates is different:"
   ]
  },
  {
   "cell_type": "code",
   "execution_count": null,
   "metadata": {},
   "outputs": [],
   "source": [
    "plt.figure(0)\n",
    "plt.pie(count_moodtags(comments.loc[(comments['Debate']==True) & comments['JBP']==True]).values(), labels=labels, autopct='%1.1f%%', explode=explode)\n",
    "plt.title('Jordan Peterson Debates')\n",
    "\n",
    "plt.figure(1)\n",
    "plt.pie(count_moodtags(comments.loc[(comments['Debate']==True) & (comments['JBP']==False)]).values(), labels=labels, autopct='%1.1f%%', explode=explode)\n",
    "plt.title('Assorted Debates (Peterson excluded)')\n",
    "\n",
    "plt.show()"
   ]
  },
  {
   "cell_type": "markdown",
   "metadata": {},
   "source": [
    "For the Peterson debates, the anger level is right near the baseline. We've found clear evidene contradicting the narrative that Peterson's audience angrily hounds anyone who argues with him.\n",
    "\n",
    "This reveals a key problem with how journalists have approached online communities. Though we see a mere 7% anger, that's drawn from hundreds of thousands of comments. If you were scrolling for a few minutes, you might happen on these and perceive a lot of anger.\n",
    "\n",
    "But immediate perceptions are not always accurate representations of reality — we're easily fooled by biases and constrained by limited perspective. Conversations involving millions of people are brand-new, so tools far beyond gut reactions and nitpicked quotes to understand them.\n",
    "\n",
    "For example, my bias leads me to _expect_ that Peterson's audience would behave well around debates. After all, one of Jordan Peterson's biggest claims to fame is his support of free speech and open debate. He has hours of video on his YouTube channel dedicated to the importance of vigorous argument. Remembering that, perhaps it shouldn't be so surprising that Peterson's audience actually seems _far more calm and comfortable_ around debates than other audiences.\n",
    "\n",
    "The general audience, oddly, is highly weighted towards fear — it makes up the second-largest mood category. My hunch is that it's skewed by the recent presidential debate between Trump and Clinton, so let's make sure we're not chasing an outlier."
   ]
  },
  {
   "cell_type": "code",
   "execution_count": null,
   "metadata": {},
   "outputs": [],
   "source": [
    "plt.pie(count_moodtags(comments.loc[(comments['Video Title']=='Clinton vs Trump Debate')]).values(), labels=labels, autopct='%1.1f%%', explode=explode)\n",
    "plt.title('Clinton vs Trump debate')\n",
    "plt.show()"
   ]
  },
  {
   "cell_type": "markdown",
   "metadata": {},
   "source": [
    "Wow. It's below the fear baseline for all non-Peterson intellectual debates within our dataset.\n",
    "\n",
    "While this is strange, it raises some questions for future analysis. Perhaps tone doesn't vary by video content or creator, but mood can vary drastically depending on what's in a given video. It might even vary widely _within_ a certain creator's audience; I've certainly seen audiences turn on creators when, for example, they \"sell out\" for sponsored content.\n",
    "\n",
    "Let's move onwards to the audience for lectures and talks, since we've found a divergence in mood _within a genre_."
   ]
  },
  {
   "cell_type": "code",
   "execution_count": null,
   "metadata": {},
   "outputs": [],
   "source": [
    "plt.figure(0)\n",
    "plt.pie(count_moodtags(comments.loc[(comments['Genre']=='Intellectual') & (comments['Debate']==False)]).values(), labels=labels, autopct='%1.1f%%', explode=explode)\n",
    "plt.title('Peterson Lectures Audience')\n",
    "\n",
    "plt.figure(1)\n",
    "plt.pie(count_moodtags(comments.loc[(comments['Genre']=='Intellectual') & (comments['Debate']==False) & (comments['JBP']==False)]).values(), labels=labels, autopct='%1.1f%%', explode=explode)\n",
    "plt.title('Non-Peterson Lectures Audience')\n",
    "plt.show()"
   ]
  },
  {
   "cell_type": "markdown",
   "metadata": {},
   "source": [
    "We've found the angriest segment of Jordan Peterson's audience, and oddly, the comments are directed at 60-120 minute university lectures about psychology and philosophy. Anger is still a minority mood, but it's more than double the baseline for Peterson's overall audience.\n",
    "\n",
    "Further, Peterson is the only person in the videos for the audience to be angry at; we're not looking at the hypothetical angry mob pursuing Peterson's debate opponents. Like the overrepresentation of fear in the debates above, this only raises new questions. We've found a path for further analysis for how different content might provoke different reactions _within a specific YouTube audience_.\n",
    "\n",
    "### What we've found (and why)\n",
    "Let's sum up our findings:\n",
    "- The tone of a video's comments depends more on the video's genre and type than the specific YouTuber's audience.\n",
    "- Peterson's commenters were consistent in tone with our other intellectual genre videos, and their subtypes: lectures and debates.\n",
    "- Audience mood can vary more within an audience, but on an overall basis, Jordan Peterson's audience does not have an overrepresentation of anger.\n",
    "- Specifically among debates, Jordan Peterson's audience actually has less negative moods than a general debate audience.\n",
    "\n",
    "All of this brings us to our conclusion: Jordan Peterson's audience is neither abnormally negative nor abnormally angry towards people who disagree with him. The journalists who wrote with such certitude in the articles linked above were incorrect. But why?\n",
    "\n",
    "Peterson's detractors are primarily political commentators — they're trained in analyzing mass political movements, and they are applying the same framework to interpret an online community. At a glance, these two groupings might seem similar: both can consist of millions of people, united by some common thread and therefore all doing something together.\n",
    "\n",
    "A rally and an online community, however, are profoundly different. The rally is a simple creature: everyone attending supports some stated mission, and they show that support in a singular way — marching.\n",
    "\n",
    "Online communities, however, present a massively more complex problem. Rather than marching as one behind the banner of a cause, online communities are decentralized and spontaneous. As a 'member' — if that label even applies — you are individual with your own voice. You attend if and when you please, engage in whichever way you see fit, and are not required to march in anyone's parade. The fractious diversity and subtle detail of the views in such a community cannot be reduced to a political platform — that model is far too low-resolution.\n",
    "\n",
    "Compound that with the leftist political lens Peterson's detractors view the world through: a standard Marxist interpretation of Peterson's message would classify it as reactionary against the advances of modern 'intersectional' feminism. They then see that Peterson attracts white men. They infer that, since it is a reactionary movement of white men, that these men are struggling back against the social gains of other classes — and are therefore angry.\n",
    "\n",
    "Then, they see angry comments on YouTube and Twitter, their ideological suppositions are confirmed, their blogs are drafted, and then their hot takes are broadcast to the world.\n",
    "\n",
    "But now we know that we don't need to settle for hot takes about our online communities. As millions of people rapidly filter into these new social units, journalists need an interpretive framework to understand how masses of individuals interact on the internet. Let this be the first small step in that direction."
   ]
  }
 ],
 "metadata": {
  "kernelspec": {
   "display_name": "Python 3",
   "language": "python",
   "name": "python3"
  },
  "language_info": {
   "codemirror_mode": {
    "name": "ipython",
    "version": 3
   },
   "file_extension": ".py",
   "mimetype": "text/x-python",
   "name": "python",
   "nbconvert_exporter": "python",
   "pygments_lexer": "ipython3",
   "version": "3.6.4"
  }
 },
 "nbformat": 4,
 "nbformat_minor": 2
}
