{
 "cells": [
  {
   "cell_type": "markdown",
   "metadata": {},
   "source": [
    "As online communities have gained traction in the 'real world', journalists have worked to understand and explain them. So far, their attempts have come up short.\n",
    "\n",
    "The typical method is to cover an online community the same way you'd cover a mass political movement. Understandably so — both can consist of millions of people, united by some common thread and therefore all doing something together. A rally and an online community, however, are profoundly different. The rally is a simple creature: everyone attending supports some stated mission, and they show that support in a singular way — marching.\n",
    "\n",
    "Online communities, however, present a massively more complex problem. Rather than marching as one behind the banner of a cause, online communities are decentralized and spontaneous. As a 'member' — if that label even applies — you are individual with your own voice. You attend if and when you please, engage in whichever way you see fit, and are not required to march in anyone's parade.\n",
    "\n",
    "An online community, with all of its fractious diversity and subtle details, cannot be adequately explained by the language of political movements. A high resolution photo should not be viewed on a low resolution screen.\n",
    "\n",
    "Nowhere has this been more evident than in the critical news coverage of Jordan Peterson's rise to international fame.\n",
    "\n",
    "Jordan Peterson is a Canadian psychology professor at the University of Toronto. A prolific scientist, his work has been [cited over 10,000 times](https://scholar.google.com/citations?user=wL1F22UAAAAJ&hl=en). When he recorded his university lectures for YouTube, they were viewed millions of times and garnered a devoted following. After criticizing Canada's Bill C-16, Peterson became a subject of global controversy.\n",
    "\n",
    "Earlier this year, Peterson published 12 Rules for Life and went on a sweeping world tour to promote the book, which has sold over 1.5 million copies. One of the earliest stops he made was in journalist Cathy Newman's studio at Channel 4 in the UK. Their interview went shockingly viral — in the first week, it had 3 million views and, as of this writing, that number stands over 11 million.\n",
    "\n",
    "Criticism naturally followed the spotlight. Peterson tends to extol the value of tradition and is critical of identity politics, which raised the ire of the political left. [Many]() [mainstream]() [articles]() [have]() [categorized]() Dr. Peterson's audience as an angry horde (of _white men_), spitting vitriol at anyone who dares to debate him.\n",
    "\n",
    "As a member of this audience, this contradicts my observations. While Tweets and YouTube comments are rarely high-brow, his seem (at least) normal to me. I attended one of his lectures in New York and saw a curious, calm, and eager audience of mostly young professionals.\n",
    "\n",
    "Perhaps my biases clouded my vision. I'll assume that the journalists above know something I don't and examine their claims closely. To do so, we're going to take a scrape the comments from a few dozen YouTube videos — some involving Jordan Peterson, others without the controversial professor.\n",
    "\n",
    "Then, we'll perform semantic analysis on the comments. We can test polarity, which shows whether the tone is positive or negative, and mood, which (as you may expect) tells us which moods are expressed by a word. By the end, we will be able to prove (or falsify) the claim that Jordan Peterson's audience is abnormally negative and angry.\n",
    "\n",
    "Let's start by pulling in our datasets."
   ]
  },
  {
   "cell_type": "code",
   "execution_count": null,
   "metadata": {},
   "outputs": [],
   "source": [
    "import pandas as pd\n",
    "import numpy as np\n",
    "\n",
    "# Create metadata to track CSV files before they're read into a dataframe\n",
    "\n",
    "video_list = [\n",
    "    {'Video Title': 'Peterson vs Newman', 'Path': './comment-assets/newman-new.csv', 'JBP': True, 'Debate': True, 'Genre': 'Intellectual'},\n",
    "    {'Video Title': 'Biblical Lectures (Peterson)', 'Path': './comment-assets/biblical-lectures.csv', 'JBP': True, 'Debate': False, 'Genre': 'Intellectual'},\n",
    "    {'Video Title': 'Munk Debate (Peterson, Fry, Dyson, Goldberg)', 'Path': './comment-assets/munk-debate.csv', 'JBP': True, 'Debate': True, 'Genre': 'Intellectual'},\n",
    "    {'Video Title': 'Personality Lectures (Peterson)', 'Path': './comment-assets/personality-lectures.csv', 'JBP': True, 'Debate': False, 'Genre': 'Intellectual'},\n",
    "    {'Video Title': 'Peterson on Rogan', 'Path': './comment-assets/peterson-rogan.csv', 'JBP': True, 'Debate': False, 'Genre': 'Intellectual'},\n",
    "    {'Video Title': 'Peterson on Maher', 'Path': './comment-assets/peterson-maher.csv', 'JBP': True, 'Debate': False, 'Genre': 'Intellectual'},\n",
    "    {'Video Title': 'PewDiePie Soyboys', 'Path': './comment-assets/pewdiepie-soyboys.csv', 'JBP': False, 'Debate': False, 'Genre': 'Popular'},\n",
    "    {'Video Title': 'Chainsmokers Music Video', 'Path': './comment-assets/chainsmokers.csv', 'JBP': False, 'Debate': False, 'Genre': 'Popular'},\n",
    "    {'Video Title': 'Clinton vs Trump Debate', 'Path': './comment-assets/clinton-trump.csv', 'JBP': False, 'Debate': True, 'Genre': 'Intellectual'},\n",
    "    {'Video Title': 'Obama vs Romney Debate', 'Path': './comment-assets/obama-romney.csv', 'JBP': False, 'Debate': True, 'Genre': 'Intellectual'},\n",
    "    {'Video Title': 'Hitchens vs Ramadan Debate', 'Path': './comment-assets/hitchens-ramadan.csv', 'JBP': False, 'Debate': True, 'Genre': 'Intellectual'},\n",
    "    {'Video Title': 'TED Talk Sam Harris', 'Path': './comment-assets/ted-talk-harris.csv', 'JBP': False, 'Debate': False, 'Genre': 'Intellectual'},\n",
    "    {'Video Title': 'TED Talk James Veitch', 'Path': './comment-assets/ted-talk-veitch.csv', 'JBP': False, 'Debate': False, 'Genre': 'Intellectual'},\n",
    "    {'Video Title': 'TED Talk Cameron Russell', 'Path': './comment-assets/ted-talk-russell.csv', 'JBP': False, 'Debate': False, 'Genre': 'Intellectual'},\n",
    "    {'Video Title': 'TED Talk Amy Cuddy', 'Path': './comment-assets/ted-talk-cuddy.csv', 'JBP': False, 'Debate': False, 'Genre': 'Intellectual'},\n",
    "    {'Video Title': 'Makeup Under a Microscope', 'Path': './comment-assets/makeup-microscrope.csv', 'JBP': False, 'Debate': False, 'Genre': 'Popular'},\n",
    "    {'Video Title': 'Metallica Music Video', 'Path': './comment-assets/metallica-nothing-else-matters.csv', 'JBP': False, 'Debate': False, 'Genre': 'Popular'},\n",
    "    {'Video Title': 'Drake Music Video', 'Path': './comment-assets/drake-nice-for-what.csv', 'JBP': False, 'Debate': False, 'Genre': 'Popular'},\n",
    "]\n",
    "metadataframe = pd.DataFrame(video_list) # create dataframe from list of dicts"
   ]
  },
  {
   "cell_type": "markdown",
   "metadata": {},
   "source": [
    "We're looking at scraped comments from various YouTube videos:\n",
    "- Jordan Peterson's viral interview with Cathy Newman on Channel 4\n",
    "- All of Peterson's lectures on the Psychological Significance of the Biblical Stories, combined into one file\n",
    "- All of Peterson's Personality lectures from 2017 and 2016, combined into one file\n",
    "- The Munk Debate featuring Jordan Peterson, Stephen Fry versus Michael Eric Dyson and Michelle Goldberg\n",
    "- Two presidential debates: Clinton versus Trump and Obama versus Romney \n",
    "- The first PewDiePie video I found on his channel\n",
    "- Music videos by the Chainsmokers, Drake, and Metallica\n",
    "- A makeup tutorial video\n",
    "- Four TED Talks on various topics"
   ]
  },
  {
   "cell_type": "code",
   "execution_count": 2,
   "metadata": {},
   "outputs": [
    {
     "name": "stderr",
     "output_type": "stream",
     "text": [
      "b'Skipping line 675: expected 4 fields, saw 7\\nSkipping line 1349: expected 4 fields, saw 7\\nSkipping line 2003: expected 4 fields, saw 7\\nSkipping line 3086: expected 4 fields, saw 7\\nSkipping line 3512: expected 4 fields, saw 7\\nSkipping line 4132: expected 4 fields, saw 7\\nSkipping line 4676: expected 4 fields, saw 7\\nSkipping line 5468: expected 4 fields, saw 7\\nSkipping line 6616: expected 4 fields, saw 7\\nSkipping line 7912: expected 4 fields, saw 7\\nSkipping line 8580: expected 4 fields, saw 7\\nSkipping line 9316: expected 4 fields, saw 7\\nSkipping line 12769: expected 4 fields, saw 7\\nSkipping line 13225: expected 4 fields, saw 7\\nSkipping line 14557: expected 4 fields, saw 7\\nSkipping line 15291: expected 4 fields, saw 7\\n'\n",
      "b'Skipping line 146: expected 4 fields, saw 7\\nSkipping line 674: expected 4 fields, saw 7\\nSkipping line 704: expected 4 fields, saw 7\\nSkipping line 1138: expected 4 fields, saw 7\\nSkipping line 1214: expected 4 fields, saw 7\\nSkipping line 1420: expected 4 fields, saw 7\\nSkipping line 1583: expected 4 fields, saw 7\\nSkipping line 1985: expected 4 fields, saw 7\\nSkipping line 2023: expected 4 fields, saw 7\\nSkipping line 2337: expected 4 fields, saw 7\\nSkipping line 2651: expected 4 fields, saw 7\\nSkipping line 2698: expected 4 fields, saw 7\\nSkipping line 3092: expected 4 fields, saw 7\\nSkipping line 3134: expected 4 fields, saw 7\\nSkipping line 3516: expected 4 fields, saw 7\\nSkipping line 3957: expected 4 fields, saw 7\\nSkipping line 4045: expected 4 fields, saw 7\\nSkipping line 4471: expected 4 fields, saw 7\\nSkipping line 4493: expected 4 fields, saw 7\\nSkipping line 4603: expected 4 fields, saw 7\\nSkipping line 4670: expected 4 fields, saw 7\\nSkipping line 5250: expected 4 fields, saw 7\\nSkipping line 5399: expected 4 fields, saw 7\\nSkipping line 5464: expected 4 fields, saw 7\\nSkipping line 5608: expected 4 fields, saw 7\\nSkipping line 5643: expected 4 fields, saw 7\\nSkipping line 5838: expected 4 fields, saw 7\\nSkipping line 6366: expected 4 fields, saw 7\\nSkipping line 6774: expected 4 fields, saw 7\\nSkipping line 6866: expected 4 fields, saw 7\\nSkipping line 6962: expected 4 fields, saw 7\\nSkipping line 7848: expected 4 fields, saw 7\\n'\n"
     ]
    }
   ],
   "source": [
    "comments = pd.DataFrame()\n",
    "\n",
    "# Build a comments dataframe by pulling data from files listed in the metadata entered above\n",
    "for idx, video in metadataframe.iterrows():\n",
    "    df = pd.read_csv(video['Path'], error_bad_lines=False)\n",
    "    df['Video Title'] = video['Video Title']\n",
    "    df['JBP'] = video['JBP']\n",
    "    df['Debate'] = video['Debate']\n",
    "    df['Genre'] = video['Genre']\n",
    "    comments = comments.append(df, ignore_index=True)"
   ]
  },
  {
   "cell_type": "markdown",
   "metadata": {},
   "source": [
    "Next, we're going to build functions to perform semantic analysis on these comments. To start, we'll clean the data by removing punctuation, splitting comments into lists of individual words (tokenizing), and dropping stopwords such as \"the\", \"this\", and \"and\"."
   ]
  },
  {
   "cell_type": "code",
   "execution_count": 3,
   "metadata": {},
   "outputs": [],
   "source": [
    "import re, string\n",
    "\n",
    "def comment_cleaner(df):\n",
    "    clean_comments = []    \n",
    "    punct = str.maketrans(string.punctuation,' '*len(string.punctuation))\n",
    "    for idx, comment in df.iterrows():\n",
    "        cleaned = str(comment['commentText']).translate(punct)\n",
    "        clean_comments.append(cleaned.lower().replace('\\n', ' ').replace('\\r', '').split(' '))\n",
    "    return pd.Series(clean_comments)"
   ]
  },
  {
   "cell_type": "code",
   "execution_count": 4,
   "metadata": {},
   "outputs": [],
   "source": [
    "import spacy\n",
    "nlp = spacy.load('en')\n",
    "\n",
    "def remove_stopwords(column):\n",
    "    for comment in column:\n",
    "        comment[:] = [x for x in comment if not nlp.vocab[str(x)].is_stop]\n",
    "    return column"
   ]
  },
  {
   "cell_type": "markdown",
   "metadata": {},
   "source": [
    "After scrubbing out all of our unnecessary stopwords and punctuation, we can use SenticNet to get the _polarity_ of each comment. Polarity tells us whether the tone of a comment is positive, negative, or neutral. Here's a brief example:"
   ]
  },
  {
   "cell_type": "code",
   "execution_count": 5,
   "metadata": {},
   "outputs": [
    {
     "name": "stdout",
     "output_type": "stream",
     "text": [
      "Good polarity:  0.849\n",
      "Love polarity:  0.83\n",
      "Hate polarity:  -0.83\n",
      "Evil polarity:  -0.76\n",
      "Beef polarity:  0.083\n"
     ]
    }
   ],
   "source": [
    "from senticnet.senticnet import SenticNet\n",
    "sn = SenticNet()\n",
    "\n",
    "print('Good polarity: ', sn.polarity_intense('good'))\n",
    "print('Love polarity: ', sn.polarity_intense('love'))\n",
    "print('Hate polarity: ', sn.polarity_intense('hate'))\n",
    "print('Evil polarity: ', sn.polarity_intense('evil'))\n",
    "print('Beef polarity: ', sn.polarity_intense('beef')) # Should be near, but not equal to, 0"
   ]
  },
  {
   "cell_type": "markdown",
   "metadata": {},
   "source": [
    "The function below takes a comment as a parameter and finds the polarity of each word in the comment. Then, it takes the mean of all nonzero polarities — polarities of 0.0 are typically triggered by typos or proper nouns, which we do not want to skew our average.\n",
    "\n",
    "The complete set of comment polarity scores will allow us to see the full distribution of commenters' tones."
   ]
  },
  {
   "cell_type": "code",
   "execution_count": 6,
   "metadata": {},
   "outputs": [],
   "source": [
    "def get_polarity(comment):\n",
    "    comment_polarity = []\n",
    "    for word in comment:\n",
    "        token_polarity = 0.0\n",
    "        try:\n",
    "            token_polarity = float(sn.polarity_intense(str(word)))\n",
    "        except Exception as e:\n",
    "            pass\n",
    "        comment_polarity.append(token_polarity)\n",
    "    return np.mean([item for item in comment_polarity if (item != 0)])"
   ]
  },
  {
   "cell_type": "markdown",
   "metadata": {},
   "source": [
    "To get more granular than mere positive-versus-negative, we're going to use SenticNet's _moodtags_: 'admiration', 'interest', 'joy', 'surprise', 'anger', 'sadness', 'fear', and 'disgust'. Each word analyzed will generate two moodtags, and each comment will have its own list of all of the moodtags generated."
   ]
  },
  {
   "cell_type": "code",
   "execution_count": 7,
   "metadata": {
    "scrolled": true
   },
   "outputs": [
    {
     "name": "stdout",
     "output_type": "stream",
     "text": [
      "Good moodtags:  ['#joy', '#interest']\n",
      "Love moodtags:  ['#joy', '#admiration']\n",
      "Hate moodtags:  ['#anger', '#disgust']\n",
      "Evil moodtags:  ['#fear', '#disgust']\n"
     ]
    }
   ],
   "source": [
    "print('Good moodtags: ', sn.moodtags('good'))\n",
    "print('Love moodtags: ', sn.moodtags('love'))\n",
    "print('Hate moodtags: ', sn.moodtags('hate'))\n",
    "print('Evil moodtags: ', sn.moodtags('evil'))"
   ]
  },
  {
   "cell_type": "markdown",
   "metadata": {},
   "source": [
    "In the final analysis, we will use this data to visualize the prevalence of certain moods, such as anger, among Jordan Peterson's commenters compared to commenters among other YouTube populations.\n",
    "\n",
    "The following function assigns a list of moodtags to each comment in the dataframe."
   ]
  },
  {
   "cell_type": "code",
   "execution_count": 8,
   "metadata": {},
   "outputs": [],
   "source": [
    "def get_moodtags(comment):\n",
    "    comment_moods = []\n",
    "    for word in comment:\n",
    "        try:\n",
    "            comment_moods.append(sn.moodtags(str(word)))\n",
    "        except Exception as e:\n",
    "            pass\n",
    "    return [item.strip('#') for sublist in comment_moods for item in sublist]"
   ]
  },
  {
   "cell_type": "markdown",
   "metadata": {},
   "source": [
    "Let's run all of the comments through these functions."
   ]
  },
  {
   "cell_type": "code",
   "execution_count": 9,
   "metadata": {},
   "outputs": [
    {
     "name": "stdout",
     "output_type": "stream",
     "text": [
      "Comments cleaned.\n"
     ]
    },
    {
     "name": "stderr",
     "output_type": "stream",
     "text": [
      "/usr/local/lib/python3.6/site-packages/numpy/core/fromnumeric.py:2920: RuntimeWarning: Mean of empty slice.\n",
      "  out=out, **kwargs)\n"
     ]
    },
    {
     "name": "stdout",
     "output_type": "stream",
     "text": [
      "Polarities identified.\n",
      "Moodtags added.\n",
      "294036 comments processed.\n"
     ]
    }
   ],
   "source": [
    "comments['Cleaned'] = remove_stopwords(comment_cleaner(comments))\n",
    "print('Comments cleaned.')\n",
    "comments['Polarity'] = comments['Cleaned'].apply(get_polarity)\n",
    "print('Polarities identified.')\n",
    "comments['Moodtags'] = comments['Cleaned'].apply(get_moodtags)\n",
    "print('Moodtags added.')\n",
    "print(len(comments), 'comments processed.')"
   ]
  },
  {
   "cell_type": "markdown",
   "metadata": {},
   "source": [
    "Now, let's grab the specific pieces of data we're going to compare:\n",
    "- Peterson's interview with Newman\n",
    "- All of Peterson's debates (or combative interviews, including the one with Newman)\n",
    "- The above, but sans Newman\n",
    "- Peterson's lectures, to see if his audience behaves differently outside debates\n",
    "- Intellectual debate videos that do not involve Peterson\n",
    "- Intellectual lecture/instructional (non-debate) videos that do not involve Peterson (primarily TED talks)\n",
    "- A group of popular, non-intellectual videos (music videos, PewDiePie, makeup tutorials, etc.)"
   ]
  },
  {
   "cell_type": "code",
   "execution_count": 10,
   "metadata": {},
   "outputs": [],
   "source": [
    "newman_interview = comments.loc[(comments['Video Title']=='Peterson vs Newman')]\n",
    "peterson_debates = comments.loc[(comments['JBP']==True) & (comments['Debate']==True)]\n",
    "peterson_debates_sans_newman = comments.loc[(comments['Debate']==True) & (comments['JBP']==True) & (comments['Video Title']!='Peterson vs Newman')]\n",
    "peterson_biblical_lectures = comments.loc[(comments['JBP']==True) & (comments['Debate']==False)]\n",
    "intellectual_debates_sans_peterson = comments.loc[(comments['Debate']==True) & (comments['JBP']==False) & (comments['Genre']=='Intellectual')]\n",
    "intellectual_sans_peterson = comments.loc[(comments['Debate']==False) & (comments['JBP']==False) & (comments['Genre']=='Intellectual')]\n",
    "popular_videos = comments.loc[(comments['Genre']=='Popular')]"
   ]
  },
  {
   "cell_type": "markdown",
   "metadata": {},
   "source": [
    "Everything is ready to go. Let's get started with our analysis.\n",
    "\n",
    "Each of these comment groupings has a distribution of polarities. We're going to run the [Kolmogorov-Smirnov test](https://en.wikipedia.org/wiki/Kolmogorov–Smirnov_test) to check if these distributions are significantly different.  Essentially, KS tests the null hypothesis that two independent samples are drawn from the same distribution. A high KS statistic or low p-value would allow us to reject the null hypothesis."
   ]
  },
  {
   "cell_type": "code",
   "execution_count": 12,
   "metadata": {},
   "outputs": [
    {
     "name": "stdout",
     "output_type": "stream",
     "text": [
      "Baseline: Ks_2sampResult(statistic=0.0, pvalue=1.0)\n"
     ]
    }
   ],
   "source": [
    "import scipy\n",
    "from scipy import stats\n",
    "\n",
    "# Comparing Peterson's Newman interv\n",
    "print('Baseline:', scipy.stats.ks_2samp(newman_interview['Polarity'], newman_interview['Polarity']))"
   ]
  },
  {
   "cell_type": "markdown",
   "metadata": {},
   "source": [
    "The null hypothesis will show a _p-value_ of 1.0 and a statistic of 0.0. What do some real examples show?"
   ]
  },
  {
   "cell_type": "code",
   "execution_count": 13,
   "metadata": {},
   "outputs": [
    {
     "name": "stdout",
     "output_type": "stream",
     "text": [
      "Ks_2sampResult(statistic=0.09469526700989706, pvalue=1.229212074140142e-122)\n",
      "Ks_2sampResult(statistic=0.19655750279728734, pvalue=0.0)\n",
      "Ks_2sampResult(statistic=0.1098267413417417, pvalue=4.925503926430389e-237)\n"
     ]
    }
   ],
   "source": [
    "# Comparing Peterson's Newman interview with his other debates\n",
    "print(scipy.stats.ks_2samp(newman_interview['Polarity'], peterson_debates_sans_newman['Polarity']))\n",
    "\n",
    "# Comparing all Jordan Peterson videos to all others\n",
    "print(scipy.stats.ks_2samp(comments.loc[(comments['JBP']==True)]['Polarity'], comments.loc[(comments['JBP']==False)]['Polarity']))\n",
    "\n",
    "# Comparing all Jordan Peterson debates with other debates\n",
    "print(scipy.stats.ks_2samp(intellectual_debates_sans_peterson['Polarity'], peterson_debates['Polarity']))"
   ]
  },
  {
   "cell_type": "markdown",
   "metadata": {},
   "source": [
    "Across categories, we see significant differences in the polarity distributions — our first two p-values are well below 0.01 (note the scientific notation). We know these samples aren't drawn from the same distribution.\n",
    "\n",
    "Next, we'll generate similarity scores for every comment set. We're looking to see which sets of comments are most similar (or different) and hoping to find a pattern. Step 1: build a [probability density function](https://en.wikipedia.org/wiki/Probability_density_function) for each set of comments, so our data isn't skewed by the amount of comments per video."
   ]
  },
  {
   "cell_type": "code",
   "execution_count": 14,
   "metadata": {},
   "outputs": [],
   "source": [
    "polarity_dataframe = pd.DataFrame()\n",
    "bins = 100\n",
    "\n",
    "# Split the distribution for each set of comments' polarities into 100 bins\n",
    "for title in comments['Video Title'].unique():\n",
    "    pol = comments.loc[comments['Video Title']==title]['Polarity']\n",
    "    hist = np.histogram(pol.dropna(), bins=bins)\n",
    "    polarity_dataframe[title] = hist[0]\n",
    "\n",
    "# Divide each row by the sum of the entire column, then save the dataframe\n",
    "beta = polarity_dataframe.sum(axis=0)\n",
    "polarity_dataframe = polarity_dataframe.apply(lambda row: row / beta, axis=1)"
   ]
  },
  {
   "cell_type": "markdown",
   "metadata": {},
   "source": [
    "Now let's build a new dataframe that will allow us to do a pairwise comparison of each video to every other video."
   ]
  },
  {
   "cell_type": "code",
   "execution_count": 15,
   "metadata": {},
   "outputs": [],
   "source": [
    "column_headers = list(polarity_dataframe)\n",
    "pairwise_list = []\n",
    "\n",
    "# Nested loops round-robin through our columns, creating a pairwise comparison\n",
    "for i in range(len(column_headers)):\n",
    "    for j in range(i+1, len(column_headers)):\n",
    "        pairwise_list.append({'Video 1': column_headers[i], 'Video 2': column_headers[j]})\n",
    "\n",
    "# Create new dataframe from list of dicts\n",
    "pairwise_comparison = pd.DataFrame(pairwise_list)"
   ]
  },
  {
   "cell_type": "markdown",
   "metadata": {},
   "source": [
    "Now that we have our pairwise comparisons set up, let's run some similarity scores: Euclidean Distance, Manhattan Distance, and Cosine Similarity. We'll add each of those to the dataframe, and then sort them in that order."
   ]
  },
  {
   "cell_type": "code",
   "execution_count": 16,
   "metadata": {},
   "outputs": [
    {
     "data": {
      "text/html": [
       "<div>\n",
       "<style scoped>\n",
       "    .dataframe tbody tr th:only-of-type {\n",
       "        vertical-align: middle;\n",
       "    }\n",
       "\n",
       "    .dataframe tbody tr th {\n",
       "        vertical-align: top;\n",
       "    }\n",
       "\n",
       "    .dataframe thead th {\n",
       "        text-align: right;\n",
       "    }\n",
       "</style>\n",
       "<table border=\"1\" class=\"dataframe\">\n",
       "  <thead>\n",
       "    <tr style=\"text-align: right;\">\n",
       "      <th></th>\n",
       "      <th>Video 1</th>\n",
       "      <th>Video 2</th>\n",
       "      <th>Euclidean Distance</th>\n",
       "      <th>Manhattan Distance</th>\n",
       "      <th>Cosine Similarity</th>\n",
       "    </tr>\n",
       "  </thead>\n",
       "  <tbody>\n",
       "    <tr>\n",
       "      <th>57</th>\n",
       "      <td>Personality Lectures (Peterson)</td>\n",
       "      <td>TED Talk Cameron Russell</td>\n",
       "      <td>0.020996</td>\n",
       "      <td>0.144837</td>\n",
       "      <td>0.993</td>\n",
       "    </tr>\n",
       "    <tr>\n",
       "      <th>35</th>\n",
       "      <td>Munk Debate (Peterson, Fry, Dyson, Goldberg)</td>\n",
       "      <td>Peterson on Maher</td>\n",
       "      <td>0.021835</td>\n",
       "      <td>0.137678</td>\n",
       "      <td>0.992</td>\n",
       "    </tr>\n",
       "    <tr>\n",
       "      <th>18</th>\n",
       "      <td>Biblical Lectures (Peterson)</td>\n",
       "      <td>Personality Lectures (Peterson)</td>\n",
       "      <td>0.023899</td>\n",
       "      <td>0.150416</td>\n",
       "      <td>0.990</td>\n",
       "    </tr>\n",
       "    <tr>\n",
       "      <th>1</th>\n",
       "      <td>Peterson vs Newman</td>\n",
       "      <td>Munk Debate (Peterson, Fry, Dyson, Goldberg)</td>\n",
       "      <td>0.024205</td>\n",
       "      <td>0.184197</td>\n",
       "      <td>0.983</td>\n",
       "    </tr>\n",
       "    <tr>\n",
       "      <th>28</th>\n",
       "      <td>Biblical Lectures (Peterson)</td>\n",
       "      <td>TED Talk Cameron Russell</td>\n",
       "      <td>0.024470</td>\n",
       "      <td>0.171548</td>\n",
       "      <td>0.991</td>\n",
       "    </tr>\n",
       "    <tr>\n",
       "      <th>70</th>\n",
       "      <td>Peterson on Rogan</td>\n",
       "      <td>TED Talk Cameron Russell</td>\n",
       "      <td>0.024472</td>\n",
       "      <td>0.164843</td>\n",
       "      <td>0.990</td>\n",
       "    </tr>\n",
       "    <tr>\n",
       "      <th>48</th>\n",
       "      <td>Personality Lectures (Peterson)</td>\n",
       "      <td>Peterson on Rogan</td>\n",
       "      <td>0.024681</td>\n",
       "      <td>0.154235</td>\n",
       "      <td>0.990</td>\n",
       "    </tr>\n",
       "    <tr>\n",
       "      <th>19</th>\n",
       "      <td>Biblical Lectures (Peterson)</td>\n",
       "      <td>Peterson on Rogan</td>\n",
       "      <td>0.028806</td>\n",
       "      <td>0.193063</td>\n",
       "      <td>0.986</td>\n",
       "    </tr>\n",
       "    <tr>\n",
       "      <th>26</th>\n",
       "      <td>Biblical Lectures (Peterson)</td>\n",
       "      <td>TED Talk Sam Harris</td>\n",
       "      <td>0.029629</td>\n",
       "      <td>0.201150</td>\n",
       "      <td>0.979</td>\n",
       "    </tr>\n",
       "    <tr>\n",
       "      <th>9</th>\n",
       "      <td>Peterson vs Newman</td>\n",
       "      <td>Hitchens vs Ramadan Debate</td>\n",
       "      <td>0.032581</td>\n",
       "      <td>0.224609</td>\n",
       "      <td>0.976</td>\n",
       "    </tr>\n",
       "    <tr>\n",
       "      <th>12</th>\n",
       "      <td>Peterson vs Newman</td>\n",
       "      <td>TED Talk Cameron Russell</td>\n",
       "      <td>0.033990</td>\n",
       "      <td>0.275404</td>\n",
       "      <td>0.968</td>\n",
       "    </tr>\n",
       "    <tr>\n",
       "      <th>4</th>\n",
       "      <td>Peterson vs Newman</td>\n",
       "      <td>Peterson on Maher</td>\n",
       "      <td>0.034375</td>\n",
       "      <td>0.237079</td>\n",
       "      <td>0.974</td>\n",
       "    </tr>\n",
       "    <tr>\n",
       "      <th>2</th>\n",
       "      <td>Peterson vs Newman</td>\n",
       "      <td>Personality Lectures (Peterson)</td>\n",
       "      <td>0.035778</td>\n",
       "      <td>0.291276</td>\n",
       "      <td>0.965</td>\n",
       "    </tr>\n",
       "    <tr>\n",
       "      <th>143</th>\n",
       "      <td>TED Talk Cameron Russell</td>\n",
       "      <td>TED Talk Amy Cuddy</td>\n",
       "      <td>0.036115</td>\n",
       "      <td>0.238483</td>\n",
       "      <td>0.968</td>\n",
       "    </tr>\n",
       "    <tr>\n",
       "      <th>127</th>\n",
       "      <td>Hitchens vs Ramadan Debate</td>\n",
       "      <td>TED Talk Cameron Russell</td>\n",
       "      <td>0.036396</td>\n",
       "      <td>0.257845</td>\n",
       "      <td>0.974</td>\n",
       "    </tr>\n",
       "    <tr>\n",
       "      <th>40</th>\n",
       "      <td>Munk Debate (Peterson, Fry, Dyson, Goldberg)</td>\n",
       "      <td>Hitchens vs Ramadan Debate</td>\n",
       "      <td>0.036502</td>\n",
       "      <td>0.258683</td>\n",
       "      <td>0.970</td>\n",
       "    </tr>\n",
       "    <tr>\n",
       "      <th>25</th>\n",
       "      <td>Biblical Lectures (Peterson)</td>\n",
       "      <td>Hitchens vs Ramadan Debate</td>\n",
       "      <td>0.036544</td>\n",
       "      <td>0.275317</td>\n",
       "      <td>0.971</td>\n",
       "    </tr>\n",
       "    <tr>\n",
       "      <th>55</th>\n",
       "      <td>Personality Lectures (Peterson)</td>\n",
       "      <td>TED Talk Sam Harris</td>\n",
       "      <td>0.037234</td>\n",
       "      <td>0.242288</td>\n",
       "      <td>0.967</td>\n",
       "    </tr>\n",
       "    <tr>\n",
       "      <th>54</th>\n",
       "      <td>Personality Lectures (Peterson)</td>\n",
       "      <td>Hitchens vs Ramadan Debate</td>\n",
       "      <td>0.037815</td>\n",
       "      <td>0.272744</td>\n",
       "      <td>0.971</td>\n",
       "    </tr>\n",
       "    <tr>\n",
       "      <th>133</th>\n",
       "      <td>TED Talk Sam Harris</td>\n",
       "      <td>TED Talk Cameron Russell</td>\n",
       "      <td>0.038091</td>\n",
       "      <td>0.253203</td>\n",
       "      <td>0.965</td>\n",
       "    </tr>\n",
       "    <tr>\n",
       "      <th>71</th>\n",
       "      <td>Peterson on Rogan</td>\n",
       "      <td>TED Talk Amy Cuddy</td>\n",
       "      <td>0.038473</td>\n",
       "      <td>0.242697</td>\n",
       "      <td>0.963</td>\n",
       "    </tr>\n",
       "    <tr>\n",
       "      <th>58</th>\n",
       "      <td>Personality Lectures (Peterson)</td>\n",
       "      <td>TED Talk Amy Cuddy</td>\n",
       "      <td>0.038743</td>\n",
       "      <td>0.257691</td>\n",
       "      <td>0.964</td>\n",
       "    </tr>\n",
       "    <tr>\n",
       "      <th>3</th>\n",
       "      <td>Peterson vs Newman</td>\n",
       "      <td>Peterson on Rogan</td>\n",
       "      <td>0.038748</td>\n",
       "      <td>0.314713</td>\n",
       "      <td>0.959</td>\n",
       "    </tr>\n",
       "    <tr>\n",
       "      <th>112</th>\n",
       "      <td>Clinton vs Trump Debate</td>\n",
       "      <td>TED Talk Cameron Russell</td>\n",
       "      <td>0.041448</td>\n",
       "      <td>0.228842</td>\n",
       "      <td>0.955</td>\n",
       "    </tr>\n",
       "    <tr>\n",
       "      <th>65</th>\n",
       "      <td>Peterson on Rogan</td>\n",
       "      <td>Clinton vs Trump Debate</td>\n",
       "      <td>0.041574</td>\n",
       "      <td>0.235798</td>\n",
       "      <td>0.955</td>\n",
       "    </tr>\n",
       "    <tr>\n",
       "      <th>29</th>\n",
       "      <td>Biblical Lectures (Peterson)</td>\n",
       "      <td>TED Talk Amy Cuddy</td>\n",
       "      <td>0.041668</td>\n",
       "      <td>0.276884</td>\n",
       "      <td>0.961</td>\n",
       "    </tr>\n",
       "    <tr>\n",
       "      <th>68</th>\n",
       "      <td>Peterson on Rogan</td>\n",
       "      <td>TED Talk Sam Harris</td>\n",
       "      <td>0.042867</td>\n",
       "      <td>0.284625</td>\n",
       "      <td>0.956</td>\n",
       "    </tr>\n",
       "    <tr>\n",
       "      <th>79</th>\n",
       "      <td>Peterson on Maher</td>\n",
       "      <td>Hitchens vs Ramadan Debate</td>\n",
       "      <td>0.043687</td>\n",
       "      <td>0.298435</td>\n",
       "      <td>0.960</td>\n",
       "    </tr>\n",
       "    <tr>\n",
       "      <th>67</th>\n",
       "      <td>Peterson on Rogan</td>\n",
       "      <td>Hitchens vs Ramadan Debate</td>\n",
       "      <td>0.044204</td>\n",
       "      <td>0.312670</td>\n",
       "      <td>0.960</td>\n",
       "    </tr>\n",
       "    <tr>\n",
       "      <th>134</th>\n",
       "      <td>TED Talk Sam Harris</td>\n",
       "      <td>TED Talk Amy Cuddy</td>\n",
       "      <td>0.044209</td>\n",
       "      <td>0.282115</td>\n",
       "      <td>0.951</td>\n",
       "    </tr>\n",
       "    <tr>\n",
       "      <th>...</th>\n",
       "      <td>...</td>\n",
       "      <td>...</td>\n",
       "      <td>...</td>\n",
       "      <td>...</td>\n",
       "      <td>...</td>\n",
       "    </tr>\n",
       "    <tr>\n",
       "      <th>117</th>\n",
       "      <td>Obama vs Romney Debate</td>\n",
       "      <td>Hitchens vs Ramadan Debate</td>\n",
       "      <td>0.081703</td>\n",
       "      <td>0.563042</td>\n",
       "      <td>0.838</td>\n",
       "    </tr>\n",
       "    <tr>\n",
       "      <th>106</th>\n",
       "      <td>Chainsmokers Music Video</td>\n",
       "      <td>Metallica Music Video</td>\n",
       "      <td>0.081853</td>\n",
       "      <td>0.409558</td>\n",
       "      <td>0.882</td>\n",
       "    </tr>\n",
       "    <tr>\n",
       "      <th>130</th>\n",
       "      <td>Hitchens vs Ramadan Debate</td>\n",
       "      <td>Metallica Music Video</td>\n",
       "      <td>0.083170</td>\n",
       "      <td>0.533559</td>\n",
       "      <td>0.840</td>\n",
       "    </tr>\n",
       "    <tr>\n",
       "      <th>46</th>\n",
       "      <td>Munk Debate (Peterson, Fry, Dyson, Goldberg)</td>\n",
       "      <td>Metallica Music Video</td>\n",
       "      <td>0.085530</td>\n",
       "      <td>0.582027</td>\n",
       "      <td>0.823</td>\n",
       "    </tr>\n",
       "    <tr>\n",
       "      <th>89</th>\n",
       "      <td>PewDiePie Soyboys</td>\n",
       "      <td>Obama vs Romney Debate</td>\n",
       "      <td>0.085848</td>\n",
       "      <td>0.581374</td>\n",
       "      <td>0.801</td>\n",
       "    </tr>\n",
       "    <tr>\n",
       "      <th>39</th>\n",
       "      <td>Munk Debate (Peterson, Fry, Dyson, Goldberg)</td>\n",
       "      <td>Obama vs Romney Debate</td>\n",
       "      <td>0.087357</td>\n",
       "      <td>0.649559</td>\n",
       "      <td>0.803</td>\n",
       "    </tr>\n",
       "    <tr>\n",
       "      <th>124</th>\n",
       "      <td>Obama vs Romney Debate</td>\n",
       "      <td>Drake Music Video</td>\n",
       "      <td>0.087884</td>\n",
       "      <td>0.641610</td>\n",
       "      <td>0.789</td>\n",
       "    </tr>\n",
       "    <tr>\n",
       "      <th>122</th>\n",
       "      <td>Obama vs Romney Debate</td>\n",
       "      <td>Makeup Under a Microscope</td>\n",
       "      <td>0.088437</td>\n",
       "      <td>0.548886</td>\n",
       "      <td>0.794</td>\n",
       "    </tr>\n",
       "    <tr>\n",
       "      <th>91</th>\n",
       "      <td>PewDiePie Soyboys</td>\n",
       "      <td>TED Talk Sam Harris</td>\n",
       "      <td>0.090055</td>\n",
       "      <td>0.558214</td>\n",
       "      <td>0.791</td>\n",
       "    </tr>\n",
       "    <tr>\n",
       "      <th>36</th>\n",
       "      <td>Munk Debate (Peterson, Fry, Dyson, Goldberg)</td>\n",
       "      <td>PewDiePie Soyboys</td>\n",
       "      <td>0.090878</td>\n",
       "      <td>0.590636</td>\n",
       "      <td>0.790</td>\n",
       "    </tr>\n",
       "    <tr>\n",
       "      <th>123</th>\n",
       "      <td>Obama vs Romney Debate</td>\n",
       "      <td>Metallica Music Video</td>\n",
       "      <td>0.091527</td>\n",
       "      <td>0.613849</td>\n",
       "      <td>0.787</td>\n",
       "    </tr>\n",
       "    <tr>\n",
       "      <th>78</th>\n",
       "      <td>Peterson on Maher</td>\n",
       "      <td>Obama vs Romney Debate</td>\n",
       "      <td>0.092302</td>\n",
       "      <td>0.674064</td>\n",
       "      <td>0.793</td>\n",
       "    </tr>\n",
       "    <tr>\n",
       "      <th>85</th>\n",
       "      <td>Peterson on Maher</td>\n",
       "      <td>Metallica Music Video</td>\n",
       "      <td>0.093262</td>\n",
       "      <td>0.625056</td>\n",
       "      <td>0.799</td>\n",
       "    </tr>\n",
       "    <tr>\n",
       "      <th>90</th>\n",
       "      <td>PewDiePie Soyboys</td>\n",
       "      <td>Hitchens vs Ramadan Debate</td>\n",
       "      <td>0.094820</td>\n",
       "      <td>0.571161</td>\n",
       "      <td>0.784</td>\n",
       "    </tr>\n",
       "    <tr>\n",
       "      <th>87</th>\n",
       "      <td>PewDiePie Soyboys</td>\n",
       "      <td>Chainsmokers Music Video</td>\n",
       "      <td>0.097134</td>\n",
       "      <td>0.426978</td>\n",
       "      <td>0.828</td>\n",
       "    </tr>\n",
       "    <tr>\n",
       "      <th>75</th>\n",
       "      <td>Peterson on Maher</td>\n",
       "      <td>PewDiePie Soyboys</td>\n",
       "      <td>0.097806</td>\n",
       "      <td>0.631550</td>\n",
       "      <td>0.770</td>\n",
       "    </tr>\n",
       "    <tr>\n",
       "      <th>102</th>\n",
       "      <td>Chainsmokers Music Video</td>\n",
       "      <td>TED Talk James Veitch</td>\n",
       "      <td>0.097831</td>\n",
       "      <td>0.476459</td>\n",
       "      <td>0.823</td>\n",
       "    </tr>\n",
       "    <tr>\n",
       "      <th>107</th>\n",
       "      <td>Chainsmokers Music Video</td>\n",
       "      <td>Drake Music Video</td>\n",
       "      <td>0.098894</td>\n",
       "      <td>0.519056</td>\n",
       "      <td>0.819</td>\n",
       "    </tr>\n",
       "    <tr>\n",
       "      <th>64</th>\n",
       "      <td>Peterson on Rogan</td>\n",
       "      <td>Chainsmokers Music Video</td>\n",
       "      <td>0.117954</td>\n",
       "      <td>0.599102</td>\n",
       "      <td>0.735</td>\n",
       "    </tr>\n",
       "    <tr>\n",
       "      <th>103</th>\n",
       "      <td>Chainsmokers Music Video</td>\n",
       "      <td>TED Talk Cameron Russell</td>\n",
       "      <td>0.124903</td>\n",
       "      <td>0.618453</td>\n",
       "      <td>0.699</td>\n",
       "    </tr>\n",
       "    <tr>\n",
       "      <th>51</th>\n",
       "      <td>Personality Lectures (Peterson)</td>\n",
       "      <td>Chainsmokers Music Video</td>\n",
       "      <td>0.125134</td>\n",
       "      <td>0.620132</td>\n",
       "      <td>0.700</td>\n",
       "    </tr>\n",
       "    <tr>\n",
       "      <th>104</th>\n",
       "      <td>Chainsmokers Music Video</td>\n",
       "      <td>TED Talk Amy Cuddy</td>\n",
       "      <td>0.126377</td>\n",
       "      <td>0.619464</td>\n",
       "      <td>0.688</td>\n",
       "    </tr>\n",
       "    <tr>\n",
       "      <th>98</th>\n",
       "      <td>Chainsmokers Music Video</td>\n",
       "      <td>Clinton vs Trump Debate</td>\n",
       "      <td>0.127554</td>\n",
       "      <td>0.646670</td>\n",
       "      <td>0.680</td>\n",
       "    </tr>\n",
       "    <tr>\n",
       "      <th>22</th>\n",
       "      <td>Biblical Lectures (Peterson)</td>\n",
       "      <td>Chainsmokers Music Video</td>\n",
       "      <td>0.128796</td>\n",
       "      <td>0.659901</td>\n",
       "      <td>0.685</td>\n",
       "    </tr>\n",
       "    <tr>\n",
       "      <th>6</th>\n",
       "      <td>Peterson vs Newman</td>\n",
       "      <td>Chainsmokers Music Video</td>\n",
       "      <td>0.129155</td>\n",
       "      <td>0.677147</td>\n",
       "      <td>0.670</td>\n",
       "    </tr>\n",
       "    <tr>\n",
       "      <th>101</th>\n",
       "      <td>Chainsmokers Music Video</td>\n",
       "      <td>TED Talk Sam Harris</td>\n",
       "      <td>0.137126</td>\n",
       "      <td>0.722688</td>\n",
       "      <td>0.635</td>\n",
       "    </tr>\n",
       "    <tr>\n",
       "      <th>37</th>\n",
       "      <td>Munk Debate (Peterson, Fry, Dyson, Goldberg)</td>\n",
       "      <td>Chainsmokers Music Video</td>\n",
       "      <td>0.138922</td>\n",
       "      <td>0.772552</td>\n",
       "      <td>0.627</td>\n",
       "    </tr>\n",
       "    <tr>\n",
       "      <th>100</th>\n",
       "      <td>Chainsmokers Music Video</td>\n",
       "      <td>Hitchens vs Ramadan Debate</td>\n",
       "      <td>0.140842</td>\n",
       "      <td>0.733927</td>\n",
       "      <td>0.626</td>\n",
       "    </tr>\n",
       "    <tr>\n",
       "      <th>76</th>\n",
       "      <td>Peterson on Maher</td>\n",
       "      <td>Chainsmokers Music Video</td>\n",
       "      <td>0.144213</td>\n",
       "      <td>0.801997</td>\n",
       "      <td>0.607</td>\n",
       "    </tr>\n",
       "    <tr>\n",
       "      <th>99</th>\n",
       "      <td>Chainsmokers Music Video</td>\n",
       "      <td>Obama vs Romney Debate</td>\n",
       "      <td>0.144846</td>\n",
       "      <td>0.796343</td>\n",
       "      <td>0.581</td>\n",
       "    </tr>\n",
       "  </tbody>\n",
       "</table>\n",
       "<p>153 rows × 5 columns</p>\n",
       "</div>"
      ],
      "text/plain": [
       "                                          Video 1  \\\n",
       "57                Personality Lectures (Peterson)   \n",
       "35   Munk Debate (Peterson, Fry, Dyson, Goldberg)   \n",
       "18                   Biblical Lectures (Peterson)   \n",
       "1                              Peterson vs Newman   \n",
       "28                   Biblical Lectures (Peterson)   \n",
       "70                              Peterson on Rogan   \n",
       "48                Personality Lectures (Peterson)   \n",
       "19                   Biblical Lectures (Peterson)   \n",
       "26                   Biblical Lectures (Peterson)   \n",
       "9                              Peterson vs Newman   \n",
       "12                             Peterson vs Newman   \n",
       "4                              Peterson vs Newman   \n",
       "2                              Peterson vs Newman   \n",
       "143                      TED Talk Cameron Russell   \n",
       "127                    Hitchens vs Ramadan Debate   \n",
       "40   Munk Debate (Peterson, Fry, Dyson, Goldberg)   \n",
       "25                   Biblical Lectures (Peterson)   \n",
       "55                Personality Lectures (Peterson)   \n",
       "54                Personality Lectures (Peterson)   \n",
       "133                           TED Talk Sam Harris   \n",
       "71                              Peterson on Rogan   \n",
       "58                Personality Lectures (Peterson)   \n",
       "3                              Peterson vs Newman   \n",
       "112                       Clinton vs Trump Debate   \n",
       "65                              Peterson on Rogan   \n",
       "29                   Biblical Lectures (Peterson)   \n",
       "68                              Peterson on Rogan   \n",
       "79                              Peterson on Maher   \n",
       "67                              Peterson on Rogan   \n",
       "134                           TED Talk Sam Harris   \n",
       "..                                            ...   \n",
       "117                        Obama vs Romney Debate   \n",
       "106                      Chainsmokers Music Video   \n",
       "130                    Hitchens vs Ramadan Debate   \n",
       "46   Munk Debate (Peterson, Fry, Dyson, Goldberg)   \n",
       "89                              PewDiePie Soyboys   \n",
       "39   Munk Debate (Peterson, Fry, Dyson, Goldberg)   \n",
       "124                        Obama vs Romney Debate   \n",
       "122                        Obama vs Romney Debate   \n",
       "91                              PewDiePie Soyboys   \n",
       "36   Munk Debate (Peterson, Fry, Dyson, Goldberg)   \n",
       "123                        Obama vs Romney Debate   \n",
       "78                              Peterson on Maher   \n",
       "85                              Peterson on Maher   \n",
       "90                              PewDiePie Soyboys   \n",
       "87                              PewDiePie Soyboys   \n",
       "75                              Peterson on Maher   \n",
       "102                      Chainsmokers Music Video   \n",
       "107                      Chainsmokers Music Video   \n",
       "64                              Peterson on Rogan   \n",
       "103                      Chainsmokers Music Video   \n",
       "51                Personality Lectures (Peterson)   \n",
       "104                      Chainsmokers Music Video   \n",
       "98                       Chainsmokers Music Video   \n",
       "22                   Biblical Lectures (Peterson)   \n",
       "6                              Peterson vs Newman   \n",
       "101                      Chainsmokers Music Video   \n",
       "37   Munk Debate (Peterson, Fry, Dyson, Goldberg)   \n",
       "100                      Chainsmokers Music Video   \n",
       "76                              Peterson on Maher   \n",
       "99                       Chainsmokers Music Video   \n",
       "\n",
       "                                          Video 2  Euclidean Distance  \\\n",
       "57                       TED Talk Cameron Russell            0.020996   \n",
       "35                              Peterson on Maher            0.021835   \n",
       "18                Personality Lectures (Peterson)            0.023899   \n",
       "1    Munk Debate (Peterson, Fry, Dyson, Goldberg)            0.024205   \n",
       "28                       TED Talk Cameron Russell            0.024470   \n",
       "70                       TED Talk Cameron Russell            0.024472   \n",
       "48                              Peterson on Rogan            0.024681   \n",
       "19                              Peterson on Rogan            0.028806   \n",
       "26                            TED Talk Sam Harris            0.029629   \n",
       "9                      Hitchens vs Ramadan Debate            0.032581   \n",
       "12                       TED Talk Cameron Russell            0.033990   \n",
       "4                               Peterson on Maher            0.034375   \n",
       "2                 Personality Lectures (Peterson)            0.035778   \n",
       "143                            TED Talk Amy Cuddy            0.036115   \n",
       "127                      TED Talk Cameron Russell            0.036396   \n",
       "40                     Hitchens vs Ramadan Debate            0.036502   \n",
       "25                     Hitchens vs Ramadan Debate            0.036544   \n",
       "55                            TED Talk Sam Harris            0.037234   \n",
       "54                     Hitchens vs Ramadan Debate            0.037815   \n",
       "133                      TED Talk Cameron Russell            0.038091   \n",
       "71                             TED Talk Amy Cuddy            0.038473   \n",
       "58                             TED Talk Amy Cuddy            0.038743   \n",
       "3                               Peterson on Rogan            0.038748   \n",
       "112                      TED Talk Cameron Russell            0.041448   \n",
       "65                        Clinton vs Trump Debate            0.041574   \n",
       "29                             TED Talk Amy Cuddy            0.041668   \n",
       "68                            TED Talk Sam Harris            0.042867   \n",
       "79                     Hitchens vs Ramadan Debate            0.043687   \n",
       "67                     Hitchens vs Ramadan Debate            0.044204   \n",
       "134                            TED Talk Amy Cuddy            0.044209   \n",
       "..                                            ...                 ...   \n",
       "117                    Hitchens vs Ramadan Debate            0.081703   \n",
       "106                         Metallica Music Video            0.081853   \n",
       "130                         Metallica Music Video            0.083170   \n",
       "46                          Metallica Music Video            0.085530   \n",
       "89                         Obama vs Romney Debate            0.085848   \n",
       "39                         Obama vs Romney Debate            0.087357   \n",
       "124                             Drake Music Video            0.087884   \n",
       "122                     Makeup Under a Microscope            0.088437   \n",
       "91                            TED Talk Sam Harris            0.090055   \n",
       "36                              PewDiePie Soyboys            0.090878   \n",
       "123                         Metallica Music Video            0.091527   \n",
       "78                         Obama vs Romney Debate            0.092302   \n",
       "85                          Metallica Music Video            0.093262   \n",
       "90                     Hitchens vs Ramadan Debate            0.094820   \n",
       "87                       Chainsmokers Music Video            0.097134   \n",
       "75                              PewDiePie Soyboys            0.097806   \n",
       "102                         TED Talk James Veitch            0.097831   \n",
       "107                             Drake Music Video            0.098894   \n",
       "64                       Chainsmokers Music Video            0.117954   \n",
       "103                      TED Talk Cameron Russell            0.124903   \n",
       "51                       Chainsmokers Music Video            0.125134   \n",
       "104                            TED Talk Amy Cuddy            0.126377   \n",
       "98                        Clinton vs Trump Debate            0.127554   \n",
       "22                       Chainsmokers Music Video            0.128796   \n",
       "6                        Chainsmokers Music Video            0.129155   \n",
       "101                           TED Talk Sam Harris            0.137126   \n",
       "37                       Chainsmokers Music Video            0.138922   \n",
       "100                    Hitchens vs Ramadan Debate            0.140842   \n",
       "76                       Chainsmokers Music Video            0.144213   \n",
       "99                         Obama vs Romney Debate            0.144846   \n",
       "\n",
       "     Manhattan Distance  Cosine Similarity  \n",
       "57             0.144837              0.993  \n",
       "35             0.137678              0.992  \n",
       "18             0.150416              0.990  \n",
       "1              0.184197              0.983  \n",
       "28             0.171548              0.991  \n",
       "70             0.164843              0.990  \n",
       "48             0.154235              0.990  \n",
       "19             0.193063              0.986  \n",
       "26             0.201150              0.979  \n",
       "9              0.224609              0.976  \n",
       "12             0.275404              0.968  \n",
       "4              0.237079              0.974  \n",
       "2              0.291276              0.965  \n",
       "143            0.238483              0.968  \n",
       "127            0.257845              0.974  \n",
       "40             0.258683              0.970  \n",
       "25             0.275317              0.971  \n",
       "55             0.242288              0.967  \n",
       "54             0.272744              0.971  \n",
       "133            0.253203              0.965  \n",
       "71             0.242697              0.963  \n",
       "58             0.257691              0.964  \n",
       "3              0.314713              0.959  \n",
       "112            0.228842              0.955  \n",
       "65             0.235798              0.955  \n",
       "29             0.276884              0.961  \n",
       "68             0.284625              0.956  \n",
       "79             0.298435              0.960  \n",
       "67             0.312670              0.960  \n",
       "134            0.282115              0.951  \n",
       "..                  ...                ...  \n",
       "117            0.563042              0.838  \n",
       "106            0.409558              0.882  \n",
       "130            0.533559              0.840  \n",
       "46             0.582027              0.823  \n",
       "89             0.581374              0.801  \n",
       "39             0.649559              0.803  \n",
       "124            0.641610              0.789  \n",
       "122            0.548886              0.794  \n",
       "91             0.558214              0.791  \n",
       "36             0.590636              0.790  \n",
       "123            0.613849              0.787  \n",
       "78             0.674064              0.793  \n",
       "85             0.625056              0.799  \n",
       "90             0.571161              0.784  \n",
       "87             0.426978              0.828  \n",
       "75             0.631550              0.770  \n",
       "102            0.476459              0.823  \n",
       "107            0.519056              0.819  \n",
       "64             0.599102              0.735  \n",
       "103            0.618453              0.699  \n",
       "51             0.620132              0.700  \n",
       "104            0.619464              0.688  \n",
       "98             0.646670              0.680  \n",
       "22             0.659901              0.685  \n",
       "6              0.677147              0.670  \n",
       "101            0.722688              0.635  \n",
       "37             0.772552              0.627  \n",
       "100            0.733927              0.626  \n",
       "76             0.801997              0.607  \n",
       "99             0.796343              0.581  \n",
       "\n",
       "[153 rows x 5 columns]"
      ]
     },
     "execution_count": 16,
     "metadata": {},
     "output_type": "execute_result"
    }
   ],
   "source": [
    "from tools.similarityscores import Similarity\n",
    "similarity = Similarity()\n",
    "\n",
    "euclidean_distance = []\n",
    "manhattan_distance = []\n",
    "cosine_similarity = []\n",
    "\n",
    "# Build lists of similarity scores for each pairwise comparison\n",
    "for idx, row in pairwise_comparison.iterrows():\n",
    "    vid1 = polarity_dataframe[row['Video 1']]\n",
    "    vid2 = polarity_dataframe[row['Video 2']]\n",
    "    euclidean_distance.append(similarity.euclidean_distance(vid1, vid2))\n",
    "    manhattan_distance.append(similarity.manhattan_distance(vid1, vid2))\n",
    "    cosine_similarity.append(similarity.cosine_similarity(vid1, vid2))\n",
    "\n",
    "# Add columns from each list of similarity scores\n",
    "pairwise_comparison['Euclidean Distance'] = euclidean_distance\n",
    "pairwise_comparison['Manhattan Distance'] = manhattan_distance\n",
    "pairwise_comparison['Cosine Similarity'] = cosine_similarity\n",
    "\n",
    "pairwise_comparison.sort_values(by=['Euclidean Distance', 'Manhattan Distance',\n",
    "                                    'Cosine Similarity'], ascending=[True, True, False])"
   ]
  },
  {
   "cell_type": "markdown",
   "metadata": {},
   "source": [
    "All of this makes intuitive sense. We're seeing pairings fall neatly into the genres of _intellectual_ versus _popular_, as well as intellectual's subgenres of _debate_ or _lecture/talk_. \n",
    "\n",
    "The most similar sets of comments are on Jordan Peterson's two most famous and acrimonious debates. The top group includes various pairings of intellectual lectures and debates. On the most-different end, we see presidential debates athwart music videos and PewDiePie looking quite different from Jordan Peterson's appearance on Real Time with Bill Maher.\n",
    "\n",
    "Notably, we're not seeing a major difference (or lack of similarity) between Jordan Peterson's audience and other intellectual audiences — in fact, many of the most-similar comment sets are between Peterson's audience and TED Talks, major debates, and presidential debates.\n",
    "\n",
    "Rather, the early indication is that comment tone is more dependent on video type than any particular YouTuber's audience. Let's visualize some of these comparisons to get a better sense of how different audiences and genres relate."
   ]
  },
  {
   "cell_type": "code",
   "execution_count": 18,
   "metadata": {},
   "outputs": [
    {
     "data": {
      "image/png": "[encoded data removed]",
      "text/plain": [
       "<matplotlib.figure.Figure at 0x13ba47cc0>"
      ]
     },
     "metadata": {},
     "output_type": "display_data"
    }
   ],
   "source": [
    "import matplotlib.pyplot as plt\n",
    "\n",
    "plt.hist(intellectual_debates_sans_peterson['Polarity'].dropna(), normed=True, color='blue', bins=100, alpha=.5, range=(-1, 1), label='Others')\n",
    "plt.hist(peterson_debates['Polarity'].dropna(), normed=True, color='red', bins=100, alpha=.5, range=(-1, 1), label='Jordan Peterson')\n",
    "plt.ylabel('Comments')\n",
    "plt.xlabel('Polarities')\n",
    "plt.title('Debates with Peterson vs Debates without')\n",
    "plt.legend()\n",
    "plt.show()"
   ]
  },
  {
   "cell_type": "markdown",
   "metadata": {},
   "source": [
    "Both have similar shapes. Now let's look at all intellectual debates versus all intellectual lectures."
   ]
  },
  {
   "cell_type": "code",
   "execution_count": 19,
   "metadata": {},
   "outputs": [
    {
     "data": {
      "image/png": "[encoded data removed]",
      "text/plain": [
       "<matplotlib.figure.Figure at 0x13ba47da0>"
      ]
     },
     "metadata": {},
     "output_type": "display_data"
    }
   ],
   "source": [
    "plt.hist(comments.loc[(comments['Genre']=='Intellectual') & (comments['Debate']==True)]['Polarity'].dropna(), normed=True, color='blue', bins=100, alpha=.5, range=(-1, 1), label='Debates')\n",
    "plt.hist(comments.loc[(comments['Genre']=='Intellectual') & (comments['Debate']==False)]['Polarity'].dropna(), normed=True, color='red', bins=100, alpha=.5, range=(-1, 1), label='Lectures/Talks')\n",
    "plt.ylabel('Comments')\n",
    "plt.xlabel('Polarities')\n",
    "plt.title('Comparing Debates to Lectures/Talks')\n",
    "plt.legend()\n",
    "plt.show()"
   ]
  },
  {
   "cell_type": "markdown",
   "metadata": {},
   "source": [
    "Again, the curves share a similar shape. Let's compare overall intellectual videos to popular videos, to see if we can see why those were splitting so dramatically in the similarity scoring."
   ]
  },
  {
   "cell_type": "code",
   "execution_count": 20,
   "metadata": {},
   "outputs": [
    {
     "data": {
      "image/png": "[encoded data removed]",
      "text/plain": [
       "<matplotlib.figure.Figure at 0x13b87d400>"
      ]
     },
     "metadata": {},
     "output_type": "display_data"
    }
   ],
   "source": [
    "plt.hist(comments.loc[(comments['Genre']=='Intellectual')]['Polarity'].dropna(), normed=True, color='blue', bins=100, alpha=.5, range=(-1, 1), label='Intellectual Videos')\n",
    "plt.hist(comments.loc[(comments['Genre']=='Popular')]['Polarity'].dropna(), normed=True, color='red', bins=100, alpha=.5, range=(-1, 1), label='Popular Videos')\n",
    "plt.ylabel('Comments')\n",
    "plt.xlabel('Polarities')\n",
    "plt.title('Comparing Intellectual and Popular Genres')\n",
    "plt.legend()\n",
    "plt.show()"
   ]
  },
  {
   "cell_type": "markdown",
   "metadata": {},
   "source": [
    "Clearly, differences between genre form the biggest split between audiences' tones in the comments.\n",
    "\n",
    "Now that we've addressed tone and shown that Jordan Peterson's audience isn't abnormally negative (or abnormally _anything_, for that matter), let's move into SenticNet's moodtags to see if we can find some abnormalities there. Specifically, we're investigating the claim that Peterson's audience has an overrepresentation of negative reactions — particularly anger — in Peterson's debates with others.\n",
    "\n",
    "Pie charts are the simplest way to visualize a count of all of our moodtags. Let's get started."
   ]
  },
  {
   "cell_type": "code",
   "execution_count": 21,
   "metadata": {},
   "outputs": [],
   "source": [
    "from collections import Counter\n",
    "\n",
    "# Setting up our pie charts for visual consistency\n",
    "explode = (0.0, 0.0, 0.0, 0.0, 0.1, 0.1, 0.1, 0.1)\n",
    "labels = ['admiration', 'interest', 'joy', 'surprise', 'anger', 'sadness', 'fear', 'disgust']\n",
    "\n",
    "# Creating a Counter object to count (duh) every moodtag in a given set of comments\n",
    "def count_moodtags(df):\n",
    "    word_string = ''\n",
    "    word_list = [item for sublist in df['Moodtags'] for item in sublist]\n",
    "    word_string += ', '.join(word_list)\n",
    "    return Counter(word_list)"
   ]
  },
  {
   "cell_type": "markdown",
   "metadata": {},
   "source": [
    "First, let's take a broad look at the combined comments on all of Jordan Peterson's videos:"
   ]
  },
  {
   "cell_type": "code",
   "execution_count": 22,
   "metadata": {},
   "outputs": [
    {
     "data": {
      "image/png": "[encoded data removed]",
      "text/plain": [
       "<matplotlib.figure.Figure at 0x13ba486a0>"
      ]
     },
     "metadata": {},
     "output_type": "display_data"
    }
   ],
   "source": [
    "plt.pie(count_moodtags(comments.loc[comments['JBP']==True]).values(), labels=labels, autopct='%1.1f%%', explode=explode)\n",
    "plt.title('Jordan Peterson Overall Audience')\n",
    "plt.show()"
   ]
  },
  {
   "cell_type": "markdown",
   "metadata": {},
   "source": [
    "Right out, this is not an angry group of people. Let's drill down and see if we can find where that 6.5% anger is coming from. Perhaps it's overrepresented in Peterson's interview with Cathy Newman on Channel 4; after all, the network claimed that the deluge of negative and threatening comments was so severe, they needed to bring in security experts."
   ]
  },
  {
   "cell_type": "code",
   "execution_count": 29,
   "metadata": {},
   "outputs": [
    {
     "data": {
      "image/png": "[encoded data removed]",
      "text/plain": [
       "<matplotlib.figure.Figure at 0x13ba47978>"
      ]
     },
     "metadata": {},
     "output_type": "display_data"
    }
   ],
   "source": [
    "plt.pie(count_moodtags(newman_interview).values(), labels=labels, autopct='%1.1f%%', explode=explode)\n",
    "plt.title('Jordan Peterson Interviewed by Cathy Newman')\n",
    "plt.show()"
   ]
  },
  {
   "cell_type": "markdown",
   "metadata": {},
   "source": [
    "Surprisingly, everything is right near the baseline. According to the data, a massive majority of Peterson's audience did not act angrily towards the Cathy Newman interview. Let's move our comparison to overall debates and see if the response to all of his debates is different:"
   ]
  },
  {
   "cell_type": "code",
   "execution_count": 56,
   "metadata": {},
   "outputs": [
    {
     "data": {
      "image/png": "[encoded data removed]",
      "text/plain": [
       "<matplotlib.figure.Figure at 0x13b5f6fd0>"
      ]
     },
     "metadata": {},
     "output_type": "display_data"
    },
    {
     "data": {
      "image/png": "[encoded data removed]",
      "text/plain": [
       "<matplotlib.figure.Figure at 0x13b5c5400>"
      ]
     },
     "metadata": {},
     "output_type": "display_data"
    }
   ],
   "source": [
    "plt.figure(0)\n",
    "plt.pie(count_moodtags(comments.loc[(comments['Debate']==True) & comments['JBP']==True]).values(), labels=labels, autopct='%1.1f%%', explode=explode)\n",
    "plt.title('Jordan Peterson Debates')\n",
    "\n",
    "plt.figure(1)\n",
    "plt.pie(count_moodtags(comments.loc[(comments['Debate']==True) & (comments['JBP']==False)]).values(), labels=labels, autopct='%1.1f%%', explode=explode)\n",
    "plt.title('Assorted Debates (Peterson excluded)')\n",
    "\n",
    "plt.show()"
   ]
  },
  {
   "cell_type": "markdown",
   "metadata": {},
   "source": [
    "For the Peterson debates, the anger level is right near the baseline.\n",
    "\n",
    "We've found clear evidene contradicting the narrative that Peterson's audience angrily hounds anyone who argues with him.\n",
    "\n",
    "This reveals a key problem with how journalists have approached online communities. Though we see a mere 7% anger, that's drawn from hundreds of thousands of comments. If you were scrolling for a few minutes, you might happen on these and perceive a lot of anger.\n",
    "\n",
    "But immediate perceptions are not always accurate representations of reality — we're easily fooled by biases and constrained by limited perspective. Conversations involving millions of people are brand-new, so tools far beyond gut reactions and nitpicked quotes to understand them.\n",
    "\n",
    "For example, my bias leads me to _expect_ that Peterson's audience would behave well around debates. After all, one of Jordan Peterson's biggest claims to fame is his support of free speech and open debate. He has hours of video on his YouTube channel dedicated to the importance of vigorous argument. Remembering that, perhaps it shouldn't be so surprising that Peterson's audience actually seems _far more calm and comfortable_ around debates than other audiences.\n",
    "\n",
    "The general audience, oddly, is highly weighted towards fear — it makes up the second-largest mood category. My hunch is that it's skewed by the recent presidential debate between Trump and Clinton, so let's make sure we're not chasing an outlier."
   ]
  },
  {
   "cell_type": "code",
   "execution_count": 26,
   "metadata": {},
   "outputs": [
    {
     "data": {
      "image/png": "[encoded data removed]",
      "text/plain": [
       "<matplotlib.figure.Figure at 0x13b866cf8>"
      ]
     },
     "metadata": {},
     "output_type": "display_data"
    }
   ],
   "source": [
    "plt.pie(count_moodtags(comments.loc[(comments['Video Title']=='Clinton vs Trump Debate')]).values(), labels=labels, autopct='%1.1f%%', explode=explode)\n",
    "plt.title('Clinton vs Trump debate')\n",
    "plt.show()"
   ]
  },
  {
   "cell_type": "markdown",
   "metadata": {},
   "source": [
    "Wow. It's below the fear baseline for all non-Peterson intellectual debates within our dataset.\n",
    "\n",
    "While this is strange, it raises some questions for future analysis. Perhaps tone doesn't vary by video content or creator, but mood can vary drastically depending on what's in a given video. It might even vary widely _within_ a certain creator's audience; I've certainly seen audiences turn on creators when, for example, they \" sell out\" for sponsored content.\n",
    "\n",
    "While this is strange, maybe there's a simple explanation.\n",
    "\n",
    "\n",
    "Let's move onwards to the audience for lectures and talks, since we've found a divergence in mood among Peterson's audience."
   ]
  },
  {
   "cell_type": "code",
   "execution_count": 27,
   "metadata": {},
   "outputs": [
    {
     "data": {
      "image/png": "[encoded data removed]",
      "text/plain": [
       "<matplotlib.figure.Figure at 0x13b763240>"
      ]
     },
     "metadata": {},
     "output_type": "display_data"
    }
   ],
   "source": [
    "plt.pie(count_moodtags(comments.loc[(comments['Genre']=='Intellectual') & (comments['Debate']==False)]).values(), labels=labels, autopct='%1.1f%%', explode=explode)\n",
    "plt.title('All Lectures Audience')\n",
    "plt.show()"
   ]
  },
  {
   "cell_type": "markdown",
   "metadata": {},
   "source": [
    "Another unexpected result: the lecture audiences seem far angrier than the debate audiences. Let's see if the general audience diverges from Peterson's here:"
   ]
  },
  {
   "cell_type": "code",
   "execution_count": null,
   "metadata": {},
   "outputs": [],
   "source": [
    "plt.pie(count_moodtags(comments.loc[(comments['Genre']=='Intellectual') & (comments['Debate']==False) & (comments['JBP']==False)]).values(), labels=labels, autopct='%1.1f%%', explode=explode)\n",
    "plt.title('Non-Peterson Lecture Audience')\n",
    "plt.show()"
   ]
  },
  {
   "cell_type": "markdown",
   "metadata": {},
   "source": [
    "Aha! We've found the angriest segment of Jordan Peterson's audience:"
   ]
  },
  {
   "cell_type": "code",
   "execution_count": null,
   "metadata": {},
   "outputs": [],
   "source": [
    "plt.pie(count_moodtags(comments.loc[(comments['Genre']=='Intellectual') & (comments['Debate']==False) & (comments['JBP']==True)]).values(), labels=labels, autopct='%1.1f%%', explode=explode)\n",
    "plt.title('Peterson Lecture Audience')\n",
    "plt.show()"
   ]
  },
  {
   "cell_type": "markdown",
   "metadata": {},
   "source": [
    "Now, this oddity doesn't align with anyone's hypothesis — these comments are on 60-120 minute university lectures about psychology and philosophy. Anger is still a minority mood, but it's more than double the baseline for Peterson's overall audience.\n",
    "\n",
    "Further, Peterson is the only person in the videos for the audience to be angry at. \n",
    "\n",
    "Given that the lectures only include the presenter, it will be hard to separate anger _towards_ the presenter best guess is that  As far as I can surmise, th\n",
    "\n",
    "A few things to note before we consider this:\n",
    "- This is a smaller group of comments; less people comment on lectures than debates\n",
    "- "
   ]
  },
  {
   "cell_type": "markdown",
   "metadata": {},
   "source": [
    "Of course, this is applying a standard political lens to Peterson's _movement_ (if we can call it that), and building on that. Peterson's message is interpreted by the left-leaning journalist as reactionary against modern third-wave (for those of you counting at home) feminism. They then see that it attracts white men. They infer that, since it is a reactionary movement of white men, that these men are struggling back against the social gains of other classes — and are therefore angry.\n",
    "\n",
    "Then, they see angry comments on YouTube and Twitter, and their ideological suppositions are confirmed. _Jordan Peterson is the lord of the angry white men._\n",
    "\n"
   ]
  },
  {
   "cell_type": "code",
   "execution_count": null,
   "metadata": {},
   "outputs": [],
   "source": [
    "wordcloud = WordCloud(background_color='white',\n",
    "                          width=4000,\n",
    "                          height=3000\n",
    "                         ).generate_from_frequencies(debate_moods)\n",
    "\n",
    "\n",
    "plt.imshow(wordcloud)\n",
    "plt.axis('off')\n",
    "plt.show()"
   ]
  }
 ],
 "metadata": {
  "kernelspec": {
   "display_name": "Python 3",
   "language": "python",
   "name": "python3"
  },
  "language_info": {
   "codemirror_mode": {
    "name": "ipython",
    "version": 3
   },
   "file_extension": ".py",
   "mimetype": "text/x-python",
   "name": "python",
   "nbconvert_exporter": "python",
   "pygments_lexer": "ipython3",
   "version": "3.6.4"
  }
 },
 "nbformat": 4,
 "nbformat_minor": 2
}
