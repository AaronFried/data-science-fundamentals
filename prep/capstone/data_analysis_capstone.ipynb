{
 "cells": [
  {
   "cell_type": "code",
   "execution_count": 10,
   "metadata": {},
   "outputs": [],
   "source": [
    "import pandas as pd\n",
    "import numpy as np\n",
    "import matplotlib.pyplot as plt\n",
    "from senticnet.senticnet import SenticNet\n",
    "import statistics\n",
    "import textblob\n",
    "import spacy\n",
    "import math\n",
    "import re, string"
   ]
  },
  {
   "cell_type": "code",
   "execution_count": 11,
   "metadata": {},
   "outputs": [],
   "source": [
    "comments = pd.read_csv('./comment-assets/newman-old.csv')\n",
    "comments.head()\n",
    "sn = SenticNet()"
   ]
  },
  {
   "cell_type": "code",
   "execution_count": 12,
   "metadata": {},
   "outputs": [
    {
     "data": {
      "text/plain": [
       "56910"
      ]
     },
     "execution_count": 12,
     "metadata": {},
     "output_type": "execute_result"
    }
   ],
   "source": [
    "clean_comments = []\n",
    "gaps = [' ', ',', '.']\n",
    "\n",
    "for idx, comment in comments.iterrows():\n",
    "    clean_comment = ''\n",
    "    for character in str(comment['commentText']):\n",
    "        pattern = re.compile('[\\W_]+')\n",
    "        if character in pattern.sub('', string.printable) or character in gaps:\n",
    "            clean_comment += character\n",
    "    clean_comments.append(clean_comment)\n",
    "    \n",
    "len(clean_comments)"
   ]
  },
  {
   "cell_type": "code",
   "execution_count": 9,
   "metadata": {},
   "outputs": [
    {
     "ename": "NameError",
     "evalue": "name 'clean_comments' is not defined",
     "output_type": "error",
     "traceback": [
      "\u001b[0;31m----------------------------------------------\u001b[0m",
      "\u001b[0;31mNameError\u001b[0m    Traceback (most recent call last)",
      "\u001b[0;32m<ipython-input-9-0089a5ce6e76>\u001b[0m in \u001b[0;36m<module>\u001b[0;34m()\u001b[0m\n\u001b[1;32m      5\u001b[0m \u001b[0mtokenizer\u001b[0m \u001b[0;34m=\u001b[0m \u001b[0mspacy\u001b[0m\u001b[0;34m.\u001b[0m\u001b[0mload\u001b[0m\u001b[0;34m(\u001b[0m\u001b[0;34m'en'\u001b[0m\u001b[0;34m)\u001b[0m\u001b[0;34m\u001b[0m\u001b[0m\n\u001b[1;32m      6\u001b[0m \u001b[0;34m\u001b[0m\u001b[0m\n\u001b[0;32m----> 7\u001b[0;31m \u001b[0;32mfor\u001b[0m \u001b[0mcomment\u001b[0m \u001b[0;32min\u001b[0m \u001b[0mclean_comments\u001b[0m\u001b[0;34m:\u001b[0m\u001b[0;34m\u001b[0m\u001b[0m\n\u001b[0m\u001b[1;32m      8\u001b[0m     \u001b[0mtokens_list\u001b[0m \u001b[0;34m=\u001b[0m \u001b[0;34m[\u001b[0m\u001b[0;34m]\u001b[0m\u001b[0;34m\u001b[0m\u001b[0m\n\u001b[1;32m      9\u001b[0m     \u001b[0;31m# Break comments into tokens\u001b[0m\u001b[0;34m\u001b[0m\u001b[0;34m\u001b[0m\u001b[0m\n",
      "\u001b[0;31mNameError\u001b[0m: name 'clean_comments' is not defined"
     ]
    }
   ],
   "source": [
    "# Tokenize all comments and add to main dataframe\n",
    "\n",
    "tokenized_comments = []\n",
    "count = 0\n",
    "tokenizer = spacy.load('en')\n",
    "\n",
    "for comment in clean_comments:\n",
    "    tokens_list = []\n",
    "    # Break comments into tokens\n",
    "    tokens = tokenizer(str(comment))\n",
    "    for token in tokens:\n",
    "        if not token.is_punct or not token.is_stop:\n",
    "            tokens_list.append(token)\n",
    "    # tokens_list.append(tokens for token in tokens if not token.is_punct or token.is_stop)\n",
    "    # above line of code changes token to generator object???\n",
    "    \n",
    "    tokenized_comments.append(tokens_list)\n",
    "    \n",
    "    count += 1\n",
    "    if count % 5000 == 0:\n",
    "        print(count)\n",
    "    \n",
    "len(tokenized_comments)"
   ]
  },
  {
   "cell_type": "code",
   "execution_count": 251,
   "metadata": {},
   "outputs": [],
   "source": [
    "comments['Tokenized'] = pd.Series(tokenized_comments)"
   ]
  },
  {
   "cell_type": "code",
   "execution_count": 252,
   "metadata": {},
   "outputs": [
    {
     "name": "stderr",
     "output_type": "stream",
     "text": [
      "/usr/local/lib/python3.6/site-packages/numpy/core/fromnumeric.py:2909: RuntimeWarning: Mean of empty slice.\n",
      "  out=out, **kwargs)\n",
      "/usr/local/lib/python3.6/site-packages/numpy/core/_methods.py:80: RuntimeWarning: invalid value encountered in double_scalars\n",
      "  ret = ret.dtype.type(ret / rcount)\n"
     ]
    }
   ],
   "source": [
    "comment_polarities = []\n",
    "\n",
    "for idx, comment in comments.iterrows():\n",
    "    token_polarities = []\n",
    "    # print(str(comments['Tokenized'][idx]))\n",
    "    #if idx <= 5000:\n",
    "    for token in comments['Tokenized'][idx]:\n",
    "        try:\n",
    "            token_polarities.append(float(sn.polarity_intense(str(token))))\n",
    "        except Exception as e:\n",
    "            pass\n",
    "    if not math.isnan(np.mean(token_polarities)): \n",
    "        comment_polarities.append(np.mean(token_polarities))\n",
    "        \n",
    "comments['Comment Polarity'] = pd.Series(comment_polarities)"
   ]
  },
  {
   "cell_type": "markdown",
   "metadata": {},
   "source": [
    "### The Data Model Here, eh?\n",
    "\n",
    "WHAT DO WE NEED TO ACCOMPLISH?\n",
    "\n",
    "I need to be able to run all sorts of associative analytics on a set of tokens, i.e., a comment. Therefore, I need a table of comments — lists of tokens — with all the of that data associated with it.\n",
    "\n",
    "Can a Pandas dataframe support this?\n",
    "\n",
    "I need a list of tokens as a single column entry. Then, I need to be able to perform that while excluding all of the NaN-type errors that I'm hiding with my datatype manipulation in the function above...\n",
    "\n",
    "Once I know that:\n",
    "- Think of how we bring sentics/moodtags into this\n",
    "- Break out distributions by keywords/mentions\n",
    "- Perhaps even break out sentences? This is slightly ambitious, but arguably necessary to getting the full picture, e.g., \"John is cool. Bob's an asshole.\" might come out neutral, but is actually the _most_ polar comment (just test this). "
   ]
  },
  {
   "cell_type": "code",
   "execution_count": 272,
   "metadata": {
    "scrolled": true
   },
   "outputs": [
    {
     "data": {
      "text/plain": [
       "(array([   468.,    358.,    521.,   1366.,   2732.,   7935.,  10797.,\n",
       "          5972.,   1747.,   1110.]),\n",
       " array([-1.     , -0.80095, -0.6019 , -0.40285, -0.2038 , -0.00475,\n",
       "         0.1943 ,  0.39335,  0.5924 ,  0.79145,  0.9905 ]),\n",
       " <a list of 10 Patch objects>)"
      ]
     },
     "execution_count": 272,
     "metadata": {},
     "output_type": "execute_result"
    },
    {
     "data": {
      "image/png": "[encoded data removed]",
      "text/plain": [
       "<matplotlib.figure.Figure at 0x19a528c88>"
      ]
     },
     "metadata": {},
     "output_type": "display_data"
    }
   ],
   "source": [
    "# plt.hist(comments['Comment Polarity'])\n",
    "plt.hist(comment_polarities)"
   ]
  },
  {
   "cell_type": "code",
   "execution_count": 255,
   "metadata": {},
   "outputs": [],
   "source": [
    "token_moodtags = []\n",
    "\n",
    "for idx, comment in comments.iterrows():\n",
    "    if idx <= 5000:\n",
    "        for token in comments['Tokenized'][idx]:\n",
    "            if not token.is_punct or token.is_stop:\n",
    "                    try:\n",
    "                        token_moodtags.append(sn.moodtags(str(token)))\n",
    "                    except Exception as e:\n",
    "                        pass\n",
    "                    \n",
    "comments['Token Moodtags'] = pd.Series(token_moodtags)"
   ]
  },
  {
   "cell_type": "code",
   "execution_count": 247,
   "metadata": {},
   "outputs": [
    {
     "data": {
      "text/html": [
       "<div>\n",
       "<style scoped>\n",
       "    .dataframe tbody tr th:only-of-type {\n",
       "        vertical-align: middle;\n",
       "    }\n",
       "\n",
       "    .dataframe tbody tr th {\n",
       "        vertical-align: top;\n",
       "    }\n",
       "\n",
       "    .dataframe thead th {\n",
       "        text-align: right;\n",
       "    }\n",
       "</style>\n",
       "<table border=\"1\" class=\"dataframe\">\n",
       "  <thead>\n",
       "    <tr style=\"text-align: right;\">\n",
       "      <th></th>\n",
       "      <th>id</th>\n",
       "      <th>user</th>\n",
       "      <th>date</th>\n",
       "      <th>timestamp</th>\n",
       "      <th>commentText</th>\n",
       "      <th>likes</th>\n",
       "      <th>hasReplies</th>\n",
       "      <th>numberOfReplies</th>\n",
       "      <th>replies.id</th>\n",
       "      <th>replies.user</th>\n",
       "      <th>replies.date</th>\n",
       "      <th>replies.timestamp</th>\n",
       "      <th>replies.commentText</th>\n",
       "      <th>replies.likes</th>\n",
       "      <th>Tokenized</th>\n",
       "      <th>Token Moodtags</th>\n",
       "      <th>Comment Polarity</th>\n",
       "    </tr>\n",
       "  </thead>\n",
       "  <tbody>\n",
       "    <tr>\n",
       "      <th>0</th>\n",
       "      <td>UgxhWL_U704pCWNzCPx4AaABAg</td>\n",
       "      <td>Disruptive_Innovator</td>\n",
       "      <td>4 seconds ago</td>\n",
       "      <td>1.516661e+12</td>\n",
       "      <td>Yay Jordan B Peterson!  MSM reporter was not s...</td>\n",
       "      <td>0.0</td>\n",
       "      <td>False</td>\n",
       "      <td>0.0</td>\n",
       "      <td>NaN</td>\n",
       "      <td>NaN</td>\n",
       "      <td>NaN</td>\n",
       "      <td>NaN</td>\n",
       "      <td>NaN</td>\n",
       "      <td>NaN</td>\n",
       "      <td>[Yay, Jordan, B, Peterson,  , MSM, reporter, w...</td>\n",
       "      <td>[#joy, #interest]</td>\n",
       "      <td>0.805500</td>\n",
       "    </tr>\n",
       "    <tr>\n",
       "      <th>1</th>\n",
       "      <td>UgwVxKFqdpMMU-VbnS94AaABAg</td>\n",
       "      <td>Gol Gulok</td>\n",
       "      <td>8 seconds ago</td>\n",
       "      <td>1.516661e+12</td>\n",
       "      <td>Jordan Peterson on the Channel 4 Controversy: ...</td>\n",
       "      <td>0.0</td>\n",
       "      <td>False</td>\n",
       "      <td>0.0</td>\n",
       "      <td>NaN</td>\n",
       "      <td>NaN</td>\n",
       "      <td>NaN</td>\n",
       "      <td>NaN</td>\n",
       "      <td>NaN</td>\n",
       "      <td>NaN</td>\n",
       "      <td>[Jordan, Peterson, on, the, Channel, 4, Contro...</td>\n",
       "      <td>[#joy, #interest]</td>\n",
       "      <td>0.457750</td>\n",
       "    </tr>\n",
       "    <tr>\n",
       "      <th>2</th>\n",
       "      <td>Ugw4sP8JkF-9g1bGnFN4AaABAg</td>\n",
       "      <td>Bobby Smith</td>\n",
       "      <td>1 minute ago</td>\n",
       "      <td>1.516661e+12</td>\n",
       "      <td>This woman must be a special type of stupid, c...</td>\n",
       "      <td>0.0</td>\n",
       "      <td>False</td>\n",
       "      <td>0.0</td>\n",
       "      <td>NaN</td>\n",
       "      <td>NaN</td>\n",
       "      <td>NaN</td>\n",
       "      <td>NaN</td>\n",
       "      <td>NaN</td>\n",
       "      <td>NaN</td>\n",
       "      <td>[This, woman, must, be, a, special, type, of, ...</td>\n",
       "      <td>[#joy, #admiration]</td>\n",
       "      <td>0.083900</td>\n",
       "    </tr>\n",
       "    <tr>\n",
       "      <th>3</th>\n",
       "      <td>UgyxXjOKQcC4pSlQogF4AaABAg</td>\n",
       "      <td>JoseitoEdlVodao</td>\n",
       "      <td>1 minute ago</td>\n",
       "      <td>1.516661e+12</td>\n",
       "      <td>Fact: The ability to think is regulated by you...</td>\n",
       "      <td>0.0</td>\n",
       "      <td>False</td>\n",
       "      <td>0.0</td>\n",
       "      <td>NaN</td>\n",
       "      <td>NaN</td>\n",
       "      <td>NaN</td>\n",
       "      <td>NaN</td>\n",
       "      <td>NaN</td>\n",
       "      <td>NaN</td>\n",
       "      <td>[Fact, The, ability, to, think, is, regulated,...</td>\n",
       "      <td>[#joy, #interest]</td>\n",
       "      <td>0.300098</td>\n",
       "    </tr>\n",
       "    <tr>\n",
       "      <th>4</th>\n",
       "      <td>Ugz8alNzq7xv5CTv6Od4AaABAg</td>\n",
       "      <td>Deividas Melnikas Shtaufer</td>\n",
       "      <td>2 minutes ago</td>\n",
       "      <td>1.516661e+12</td>\n",
       "      <td>Honestly there are 25 biologicaly and biochemi...</td>\n",
       "      <td>1.0</td>\n",
       "      <td>False</td>\n",
       "      <td>0.0</td>\n",
       "      <td>NaN</td>\n",
       "      <td>NaN</td>\n",
       "      <td>NaN</td>\n",
       "      <td>NaN</td>\n",
       "      <td>NaN</td>\n",
       "      <td>NaN</td>\n",
       "      <td>[Honestly, there, are, 25, biologicaly, and, b...</td>\n",
       "      <td>[#joy, #interest]</td>\n",
       "      <td>0.126000</td>\n",
       "    </tr>\n",
       "    <tr>\n",
       "      <th>5</th>\n",
       "      <td>Ugw0gsQs9Oo-D3Wew114AaABAg</td>\n",
       "      <td>Yuyi Leal</td>\n",
       "      <td>2 minutes ago</td>\n",
       "      <td>1.516661e+12</td>\n",
       "      <td>Everyone should watch this clip ...You won't r...</td>\n",
       "      <td>1.0</td>\n",
       "      <td>False</td>\n",
       "      <td>0.0</td>\n",
       "      <td>NaN</td>\n",
       "      <td>NaN</td>\n",
       "      <td>NaN</td>\n",
       "      <td>NaN</td>\n",
       "      <td>NaN</td>\n",
       "      <td>NaN</td>\n",
       "      <td>[Everyone, should, watch, this, clip, ..., You...</td>\n",
       "      <td>[#joy, #admiration]</td>\n",
       "      <td>0.226000</td>\n",
       "    </tr>\n",
       "    <tr>\n",
       "      <th>6</th>\n",
       "      <td>UgxwiqLXybCNi-5ljsd4AaABAg</td>\n",
       "      <td>Cool Guy</td>\n",
       "      <td>2 minutes ago</td>\n",
       "      <td>1.516661e+12</td>\n",
       "      <td>Gets Jordan Peterson in interview.\\nGets 3 mil...</td>\n",
       "      <td>0.0</td>\n",
       "      <td>False</td>\n",
       "      <td>0.0</td>\n",
       "      <td>NaN</td>\n",
       "      <td>NaN</td>\n",
       "      <td>NaN</td>\n",
       "      <td>NaN</td>\n",
       "      <td>NaN</td>\n",
       "      <td>NaN</td>\n",
       "      <td>[Gets, Jordan, Peterson, in, interview, ., Get...</td>\n",
       "      <td>[#sadness, #anger]</td>\n",
       "      <td>0.131333</td>\n",
       "    </tr>\n",
       "    <tr>\n",
       "      <th>7</th>\n",
       "      <td>UgwCu-LL4OZIiZw8oN94AaABAg</td>\n",
       "      <td>Jeff Scott</td>\n",
       "      <td>2 minutes ago</td>\n",
       "      <td>1.516661e+12</td>\n",
       "      <td>After watching it a second time I have some re...</td>\n",
       "      <td>0.0</td>\n",
       "      <td>False</td>\n",
       "      <td>0.0</td>\n",
       "      <td>NaN</td>\n",
       "      <td>NaN</td>\n",
       "      <td>NaN</td>\n",
       "      <td>NaN</td>\n",
       "      <td>NaN</td>\n",
       "      <td>NaN</td>\n",
       "      <td>[After, watching, it, a, second, time, I, have...</td>\n",
       "      <td>[#interest, #admiration]</td>\n",
       "      <td>0.388000</td>\n",
       "    </tr>\n",
       "    <tr>\n",
       "      <th>8</th>\n",
       "      <td>UgxbJnvg_xIfQykCS094AaABAg</td>\n",
       "      <td>ian o'loughlin</td>\n",
       "      <td>3 minutes ago</td>\n",
       "      <td>1.516660e+12</td>\n",
       "      <td>I kinda feel sorry for her. She is either inte...</td>\n",
       "      <td>0.0</td>\n",
       "      <td>False</td>\n",
       "      <td>0.0</td>\n",
       "      <td>NaN</td>\n",
       "      <td>NaN</td>\n",
       "      <td>NaN</td>\n",
       "      <td>NaN</td>\n",
       "      <td>NaN</td>\n",
       "      <td>NaN</td>\n",
       "      <td>[I, kinda, feel, sorry, for, her, ., She, is, ...</td>\n",
       "      <td>[#sadness, #disgust]</td>\n",
       "      <td>0.304000</td>\n",
       "    </tr>\n",
       "    <tr>\n",
       "      <th>9</th>\n",
       "      <td>UgwJzSO_E6Vrbk1eCkN4AaABAg</td>\n",
       "      <td>TheEntityRaptor</td>\n",
       "      <td>3 minutes ago</td>\n",
       "      <td>1.516660e+12</td>\n",
       "      <td>I have never seen someone dominate an argument...</td>\n",
       "      <td>0.0</td>\n",
       "      <td>False</td>\n",
       "      <td>0.0</td>\n",
       "      <td>NaN</td>\n",
       "      <td>NaN</td>\n",
       "      <td>NaN</td>\n",
       "      <td>NaN</td>\n",
       "      <td>NaN</td>\n",
       "      <td>NaN</td>\n",
       "      <td>[I, have, never, seen, someone, dominate, an, ...</td>\n",
       "      <td>[#interest, #admiration]</td>\n",
       "      <td>-0.464250</td>\n",
       "    </tr>\n",
       "  </tbody>\n",
       "</table>\n",
       "</div>"
      ],
      "text/plain": [
       "                           id                        user           date  \\\n",
       "0  UgxhWL_U704pCWNzCPx4AaABAg        Disruptive_Innovator  4 seconds ago   \n",
       "1  UgwVxKFqdpMMU-VbnS94AaABAg                   Gol Gulok  8 seconds ago   \n",
       "2  Ugw4sP8JkF-9g1bGnFN4AaABAg                 Bobby Smith   1 minute ago   \n",
       "3  UgyxXjOKQcC4pSlQogF4AaABAg             JoseitoEdlVodao   1 minute ago   \n",
       "4  Ugz8alNzq7xv5CTv6Od4AaABAg  Deividas Melnikas Shtaufer  2 minutes ago   \n",
       "5  Ugw0gsQs9Oo-D3Wew114AaABAg                   Yuyi Leal  2 minutes ago   \n",
       "6  UgxwiqLXybCNi-5ljsd4AaABAg                    Cool Guy  2 minutes ago   \n",
       "7  UgwCu-LL4OZIiZw8oN94AaABAg                  Jeff Scott  2 minutes ago   \n",
       "8  UgxbJnvg_xIfQykCS094AaABAg              ian o'loughlin  3 minutes ago   \n",
       "9  UgwJzSO_E6Vrbk1eCkN4AaABAg             TheEntityRaptor  3 minutes ago   \n",
       "\n",
       "      timestamp                                        commentText  likes  \\\n",
       "0  1.516661e+12  Yay Jordan B Peterson!  MSM reporter was not s...    0.0   \n",
       "1  1.516661e+12  Jordan Peterson on the Channel 4 Controversy: ...    0.0   \n",
       "2  1.516661e+12  This woman must be a special type of stupid, c...    0.0   \n",
       "3  1.516661e+12  Fact: The ability to think is regulated by you...    0.0   \n",
       "4  1.516661e+12  Honestly there are 25 biologicaly and biochemi...    1.0   \n",
       "5  1.516661e+12  Everyone should watch this clip ...You won't r...    1.0   \n",
       "6  1.516661e+12  Gets Jordan Peterson in interview.\\nGets 3 mil...    0.0   \n",
       "7  1.516661e+12  After watching it a second time I have some re...    0.0   \n",
       "8  1.516660e+12  I kinda feel sorry for her. She is either inte...    0.0   \n",
       "9  1.516660e+12  I have never seen someone dominate an argument...    0.0   \n",
       "\n",
       "  hasReplies  numberOfReplies replies.id replies.user replies.date  \\\n",
       "0      False              0.0        NaN          NaN          NaN   \n",
       "1      False              0.0        NaN          NaN          NaN   \n",
       "2      False              0.0        NaN          NaN          NaN   \n",
       "3      False              0.0        NaN          NaN          NaN   \n",
       "4      False              0.0        NaN          NaN          NaN   \n",
       "5      False              0.0        NaN          NaN          NaN   \n",
       "6      False              0.0        NaN          NaN          NaN   \n",
       "7      False              0.0        NaN          NaN          NaN   \n",
       "8      False              0.0        NaN          NaN          NaN   \n",
       "9      False              0.0        NaN          NaN          NaN   \n",
       "\n",
       "   replies.timestamp replies.commentText  replies.likes  \\\n",
       "0                NaN                 NaN            NaN   \n",
       "1                NaN                 NaN            NaN   \n",
       "2                NaN                 NaN            NaN   \n",
       "3                NaN                 NaN            NaN   \n",
       "4                NaN                 NaN            NaN   \n",
       "5                NaN                 NaN            NaN   \n",
       "6                NaN                 NaN            NaN   \n",
       "7                NaN                 NaN            NaN   \n",
       "8                NaN                 NaN            NaN   \n",
       "9                NaN                 NaN            NaN   \n",
       "\n",
       "                                           Tokenized  \\\n",
       "0  [Yay, Jordan, B, Peterson,  , MSM, reporter, w...   \n",
       "1  [Jordan, Peterson, on, the, Channel, 4, Contro...   \n",
       "2  [This, woman, must, be, a, special, type, of, ...   \n",
       "3  [Fact, The, ability, to, think, is, regulated,...   \n",
       "4  [Honestly, there, are, 25, biologicaly, and, b...   \n",
       "5  [Everyone, should, watch, this, clip, ..., You...   \n",
       "6  [Gets, Jordan, Peterson, in, interview, ., Get...   \n",
       "7  [After, watching, it, a, second, time, I, have...   \n",
       "8  [I, kinda, feel, sorry, for, her, ., She, is, ...   \n",
       "9  [I, have, never, seen, someone, dominate, an, ...   \n",
       "\n",
       "             Token Moodtags  Comment Polarity  \n",
       "0         [#joy, #interest]          0.805500  \n",
       "1         [#joy, #interest]          0.457750  \n",
       "2       [#joy, #admiration]          0.083900  \n",
       "3         [#joy, #interest]          0.300098  \n",
       "4         [#joy, #interest]          0.126000  \n",
       "5       [#joy, #admiration]          0.226000  \n",
       "6        [#sadness, #anger]          0.131333  \n",
       "7  [#interest, #admiration]          0.388000  \n",
       "8      [#sadness, #disgust]          0.304000  \n",
       "9  [#interest, #admiration]         -0.464250  "
      ]
     },
     "execution_count": 247,
     "metadata": {},
     "output_type": "execute_result"
    }
   ],
   "source": [
    "comments[0:10]"
   ]
  },
  {
   "cell_type": "code",
   "execution_count": 291,
   "metadata": {},
   "outputs": [
    {
     "name": "stderr",
     "output_type": "stream",
     "text": [
      "/usr/local/lib/python3.6/site-packages/numpy/core/fromnumeric.py:2909: RuntimeWarning: Mean of empty slice.\n",
      "  out=out, **kwargs)\n",
      "/usr/local/lib/python3.6/site-packages/numpy/core/_methods.py:80: RuntimeWarning: invalid value encountered in double_scalars\n",
      "  ret = ret.dtype.type(ret / rcount)\n"
     ]
    }
   ],
   "source": [
    "cathy_names = ['cathy']\n",
    "cathies = []\n",
    "cathy_polarities = []\n",
    "\n",
    "\n",
    "for idx, comment in comments.iterrows():\n",
    "    if 'cathy' in str(comments['commentText'][idx]):\n",
    "        # print('found cathy! at ', idx)\n",
    "        cathies.append(idx)\n",
    "        \n",
    "for cathy in cathies:\n",
    "    comment_polarity = []\n",
    "    for token in comments['Tokenized'][cathy]:\n",
    "        try:\n",
    "            comment_polarity.append(float(sn.polarity_intense(str(token))))\n",
    "        except Exception as e:\n",
    "            pass\n",
    "    if not math.isnan(np.mean(comment_polarity)):\n",
    "        cathy_polarities.append(np.mean(comment_polarity))"
   ]
  },
  {
   "cell_type": "code",
   "execution_count": 293,
   "metadata": {},
   "outputs": [
    {
     "data": {
      "text/plain": [
       "(array([  2.,   1.,   0.,   3.,   4.,  10.,  25.,   8.,   6.,   2.]),\n",
       " array([-0.97  , -0.7857, -0.6014, -0.4171, -0.2328, -0.0485,  0.1358,\n",
       "         0.3201,  0.5044,  0.6887,  0.873 ]),\n",
       " <a list of 10 Patch objects>)"
      ]
     },
     "execution_count": 293,
     "metadata": {},
     "output_type": "execute_result"
    },
    {
     "data": {
      "image/png": "[encoded data removed]",
      "text/plain": [
       "<matplotlib.figure.Figure at 0x19addc588>"
      ]
     },
     "metadata": {},
     "output_type": "display_data"
    }
   ],
   "source": [
    "plt.hist(cathy_polarities)"
   ]
  },
  {
   "cell_type": "code",
   "execution_count": 294,
   "metadata": {},
   "outputs": [
    {
     "data": {
      "text/plain": [
       "(array([   468.,    358.,    521.,   1366.,   2732.,   7935.,  10797.,\n",
       "          5972.,   1747.,   1110.]),\n",
       " array([-1.     , -0.80095, -0.6019 , -0.40285, -0.2038 , -0.00475,\n",
       "         0.1943 ,  0.39335,  0.5924 ,  0.79145,  0.9905 ]),\n",
       " <a list of 10 Patch objects>)"
      ]
     },
     "execution_count": 294,
     "metadata": {},
     "output_type": "execute_result"
    },
    {
     "data": {
      "image/png": "[encoded data removed]",
      "text/plain": [
       "<matplotlib.figure.Figure at 0x19bf535f8>"
      ]
     },
     "metadata": {},
     "output_type": "display_data"
    }
   ],
   "source": [
    "plt.hist(comments['Comment Polarity'].dropna())"
   ]
  },
  {
   "cell_type": "code",
   "execution_count": 1,
   "metadata": {},
   "outputs": [
    {
     "ename": "NameError",
     "evalue": "name 'comments' is not defined",
     "output_type": "error",
     "traceback": [
      "\u001b[0;31m----------------------------------------------\u001b[0m",
      "\u001b[0;31mNameError\u001b[0m    Traceback (most recent call last)",
      "\u001b[0;32m<ipython-input-1-4e4d07bd567f>\u001b[0m in \u001b[0;36m<module>\u001b[0;34m()\u001b[0m\n\u001b[0;32m----> 1\u001b[0;31m \u001b[0mcomments\u001b[0m\u001b[0;34m.\u001b[0m\u001b[0mhead\u001b[0m\u001b[0;34m(\u001b[0m\u001b[0;34m)\u001b[0m\u001b[0;34m\u001b[0m\u001b[0m\n\u001b[0m",
      "\u001b[0;31mNameError\u001b[0m: name 'comments' is not defined"
     ]
    }
   ],
   "source": [
    "comments.head()"
   ]
  },
  {
   "cell_type": "code",
   "execution_count": 6,
   "metadata": {},
   "outputs": [
    {
     "ename": "KeyError",
     "evalue": "'peterson'",
     "output_type": "error",
     "traceback": [
      "\u001b[0;31m----------------------------------------------\u001b[0m",
      "\u001b[0;31mKeyError\u001b[0m     Traceback (most recent call last)",
      "\u001b[0;32m<ipython-input-6-17e6f37849aa>\u001b[0m in \u001b[0;36m<module>\u001b[0;34m()\u001b[0m\n\u001b[0;32m----> 1\u001b[0;31m \u001b[0msn\u001b[0m\u001b[0;34m.\u001b[0m\u001b[0mmoodtags\u001b[0m\u001b[0;34m(\u001b[0m\u001b[0;34m'peterson'\u001b[0m\u001b[0;34m)\u001b[0m\u001b[0;34m\u001b[0m\u001b[0m\n\u001b[0m",
      "\u001b[0;32m/usr/local/lib/python3.6/site-packages/senticnet/senticnet.py\u001b[0m in \u001b[0;36mmoodtags\u001b[0;34m(self, concept)\u001b[0m\n\u001b[1;32m     73\u001b[0m         \"\"\"\n\u001b[1;32m     74\u001b[0m         \u001b[0mconcept\u001b[0m \u001b[0;34m=\u001b[0m \u001b[0mconcept\u001b[0m\u001b[0;34m.\u001b[0m\u001b[0mreplace\u001b[0m\u001b[0;34m(\u001b[0m\u001b[0;34m\" \"\u001b[0m\u001b[0;34m,\u001b[0m \u001b[0;34m\"_\"\u001b[0m\u001b[0;34m)\u001b[0m\u001b[0;34m\u001b[0m\u001b[0m\n\u001b[0;32m---> 75\u001b[0;31m         \u001b[0mconcept_info\u001b[0m \u001b[0;34m=\u001b[0m \u001b[0mself\u001b[0m\u001b[0;34m.\u001b[0m\u001b[0mdata\u001b[0m\u001b[0;34m[\u001b[0m\u001b[0mconcept\u001b[0m\u001b[0;34m]\u001b[0m\u001b[0;34m\u001b[0m\u001b[0m\n\u001b[0m\u001b[1;32m     76\u001b[0m \u001b[0;34m\u001b[0m\u001b[0m\n\u001b[1;32m     77\u001b[0m         \u001b[0;32mreturn\u001b[0m \u001b[0mconcept_info\u001b[0m\u001b[0;34m[\u001b[0m\u001b[0;36m4\u001b[0m\u001b[0;34m:\u001b[0m\u001b[0;36m6\u001b[0m\u001b[0;34m]\u001b[0m\u001b[0;34m\u001b[0m\u001b[0m\n",
      "\u001b[0;31mKeyError\u001b[0m: 'peterson'"
     ]
    }
   ],
   "source": [
    "sn.moodtags('peterson')"
   ]
  },
  {
   "cell_type": "code",
   "execution_count": 8,
   "metadata": {},
   "outputs": [
    {
     "data": {
      "text/plain": [
       "array([['UgxhWL_U704pCWNzCPx4AaABAg', 'Disruptive_Innovator',\n",
       "        '4 seconds ago', ..., nan, nan, nan],\n",
       "       ['UgwVxKFqdpMMU-VbnS94AaABAg', 'Gol Gulok', '8 seconds ago', ...,\n",
       "        nan, nan, nan],\n",
       "       ['Ugw4sP8JkF-9g1bGnFN4AaABAg', 'Bobby Smith', '1 minute ago', ...,\n",
       "        nan, nan, nan],\n",
       "       ..., \n",
       "       [nan, nan, nan, ..., 1516490291444.0,\n",
       "        \"Scott McErlean she was using arguments that have clearly already been said. That isn't strawmaning.... even if those were actually strawman fallacies...\\n\\nAfter presenting the obvious and readily available arguments, she allowed jordan his points and listened honestly. Despite everything she never got boggled down on anything and a remarkable amount of topics were covered.\\n\\nbtw, quite the ridiculous strawman yourself.\",\n",
       "        0.0],\n",
       "       ['Ugwyw8MgtyxVNExicUZ4AaABAg', 'Psycopathic cuntstable',\n",
       "        '6 days ago', ..., nan, nan, nan],\n",
       "       [nan, nan, nan, ..., 1516231090587.0, 'shill', 0.0]], dtype=object)"
      ]
     },
     "execution_count": 8,
     "metadata": {},
     "output_type": "execute_result"
    }
   ],
   "source": [
    "np.array(comments)"
   ]
  },
  {
   "cell_type": "code",
   "execution_count": 13,
   "metadata": {},
   "outputs": [
    {
     "data": {
      "text/plain": [
       "['Yay Jordan B Peterson  MSM reporter was not so good.',\n",
       " 'Jordan Peterson on the Channel 4 Controversy httpswww.youtube.comwatchvE6qBxnhFDQ This interview is fantastic, Peterson  nails the fallout from this car crash with his usual precision of thought, its a must see.',\n",
       " 'This woman must be a special type of stupid, coupled with victim rage  painful to watch. How is she on TV',\n",
       " 'Fact The ability to think is regulated by your emotions.Fact The more competent you are in a human hierarchy the better chance you have at regulation your emotions.Fact Egalitarianism doesnt let you become competent.Fact The ability to observe yourself and your own emotions demands that youre able to regulate them. Its a two way street.Fact If you want your emotions to be useful, you have to be able to observe them, therefore regulate them.Observation This woman seems like she can barely regulate her own emotions, very unlike Camille Paglia, a well known Feminist.',\n",
       " 'Honestly there are 25 biologicaly and biochemicaly aproved genders1. Male2. Female3. FeMale 4. MaleFe5. Biofrat 6. Antigrap7. Humusmax8. Placentanol9. Microcarp10. Sausagefluid11. Bunfluid12. Tansmutant13. Hypnorex14. Attackbutt15. Defencebutt16. Mixedbutt17. Transmouth18. Helicopshot19. Neuter20. Neutermax21. Antineuter22. Transneuter23. Negrowant24. Asianfluid25. Ninjaturt',\n",
       " 'Everyone should watch this clip ...You wont regret it...its so hilarious  httpsyoutu.beZBdnyrzq96s',\n",
       " 'Gets Jordan Peterson in interview.Gets 3 million viewsGets roasted',\n",
       " 'After watching it a second time I have some respect her.  She conducted a really good interview and stayed professional the whole time.  Many of her aggressive questions were worded perfectly to get a good response from him, and I wonder how much of what seems like ignorance from her was just her playing devils advocate like a good interviewer should.  Its especially apparent at the end when she reacts to his answer on ones right to offend, she took that really well and didnt just shut down like every other feminist interviewer does.',\n",
       " 'I kinda feel sorry for her. She is either intentionally being dense or was instructed to do a hit piece in real time. It would be interesting if she would sit down and do a long form interview and instead of her trying to reenvision what he is saying actually ask questions on why he came to the conclusions. THEN challenge the assertions.',\n",
       " 'I have never seen someone dominate an argument like that, she was fucking destroyed.']"
      ]
     },
     "execution_count": 13,
     "metadata": {},
     "output_type": "execute_result"
    }
   ],
   "source": [
    "clean_comments[0:10]"
   ]
  },
  {
   "cell_type": "code",
   "execution_count": null,
   "metadata": {},
   "outputs": [],
   "source": [
    "for all the comments:\n",
    "    check if this word is in sentic library\n",
    "        if so, add it to the list to be tokenized"
   ]
  }
 ],
 "metadata": {
  "kernelspec": {
   "display_name": "Python 3",
   "language": "python",
   "name": "python3"
  },
  "language_info": {
   "codemirror_mode": {
    "name": "ipython",
    "version": 3
   },
   "file_extension": ".py",
   "mimetype": "text/x-python",
   "name": "python",
   "nbconvert_exporter": "python",
   "pygments_lexer": "ipython3",
   "version": "3.6.4"
  }
 },
 "nbformat": 4,
 "nbformat_minor": 2
}
